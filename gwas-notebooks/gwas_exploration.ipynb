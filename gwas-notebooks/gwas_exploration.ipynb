{
  "metadata" : {
    "config" : {
      "dependencies" : {
        "scala" : [
          "group.research.aging:spark-extensions_2.12:0.1.1",
          "com.github.pathikrit:better-files_2.12:3.9.1",
          "org.bdgenomics.adam:adam-core-spark2_2.12:0.33.0",
          "com.softwaremill.sttp.client3:core_2.12:3.0.0-RC13"
        ]
      },
      "exclusions" : [
      ],
      "repositories" : [
        {
          "maven" : {
            "base" : "http://central.maven.org/maven2/"
          }
        },
        {
          "maven" : {
            "base" : "http://oss.sonatype.org/content/repositories/snapshots"
          }
        },
        {
          "maven" : {
            "base" : "https://dl.bintray.com/comp-bio-aging/main/"
          }
        }
      ],
      "sparkConfig" : {
        "master" : "http://spark:7070[16]"
      },
      "env" : {
        
      }
    },
    "language_info" : {
      "name" : "scala"
    }
  },
  "nbformat" : 4,
  "nbformat_minor" : 0,
  "cells" : [
    {
      "cell_type" : "markdown",
      "execution_count" : 51,
      "metadata" : {
        "language" : "text"
      },
      "language" : "text",
      "source" : [
        "# GWAS exploration\n",
        "\n",
        "Polynote notebook for manual exploratory analysis of VEP annotations and vcf files\n",
        "\n"
      ],
      "outputs" : [
      ]
    },
    {
      "cell_type" : "code",
      "execution_count" : 1,
      "metadata" : {
        "cell.metadata.exec_info" : {
          "startTs" : 1609327031634,
          "endTs" : 1609327031758
        },
        "language" : "scala"
      },
      "language" : "scala",
      "source" : [
        "import org.apache.spark._\n",
        "import org.apache.spark.sql.{DataFrame, Encoders, SparkSession}\n",
        "import org.apache.spark.sql.types.StructType\n",
        "import scala.reflect.runtime.universe._\n",
        "import org.apache.spark.storage.StorageLevel\n",
        "import org.apache.spark.rdd._\n",
        "import org.apache.spark.sql.functions._\n",
        "import org.apache.spark.sql.ColumnName"
      ],
      "outputs" : [
      ]
    },
    {
      "cell_type" : "code",
      "execution_count" : 2,
      "metadata" : {
        "cell.metadata.exec_info" : {
          "startTs" : 1609327033333,
          "endTs" : 1609327033378
        },
        "language" : "scala"
      },
      "language" : "scala",
      "source" : [
        "import better.files._\n",
        "import File._\n",
        "import java.io.{File => JFile}"
      ],
      "outputs" : [
      ]
    },
    {
      "cell_type" : "code",
      "execution_count" : 3,
      "metadata" : {
        "cell.metadata.exec_info" : {
          "startTs" : 1609327034405,
          "endTs" : 1609327034449
        },
        "language" : "scala"
      },
      "language" : "scala",
      "source" : [
        "import org.apache.spark.sql.expressions._\n",
        "import group.research.aging.spark.extensions._\n",
        "import group.research.aging.spark.extensions.functions._"
      ],
      "outputs" : [
      ]
    },
    {
      "cell_type" : "code",
      "execution_count" : 4,
      "metadata" : {
        "cell.metadata.exec_info" : {
          "startTs" : 1609327036380,
          "endTs" : 1609327036436
        },
        "language" : "scala"
      },
      "language" : "scala",
      "source" : [
        "def display(f: File) = f.children.foreach(println)"
      ],
      "outputs" : [
      ]
    },
    {
      "cell_type" : "code",
      "execution_count" : 5,
      "metadata" : {
        "cell.metadata.exec_info" : {
          "startTs" : 1609327038605,
          "endTs" : 1609327044971
        },
        "language" : "scala"
      },
      "language" : "scala",
      "source" : [
        "val data = File(\"/data\")\n",
        "val gwas_path = data / \"gwas\" / \"anton\"\n",
        "display(gwas_path)"
      ],
      "outputs" : [
        {
          "name" : "stdout",
          "text" : [
            "/data/gwas/anton/vep\n",
            "/data/gwas/anton/dante\n",
            "/data/gwas/anton/variants\n",
            "/data/gwas/anton/aligned\n",
            "/data/gwas/anton/annotations\n",
            "/data/gwas/anton/OLD\n",
            "/data/gwas/anton/fastq\n"
          ],
          "output_type" : "stream"
        }
      ]
    },
    {
      "cell_type" : "code",
      "execution_count" : 28,
      "metadata" : {
        "cell.metadata.exec_info" : {
          "startTs" : 1609327044974,
          "endTs" : 1609327045216
        },
        "language" : "scala"
      },
      "language" : "scala",
      "source" : [
        "val dante = gwas_path / \"dante\"\n",
        "display(dante)"
      ],
      "outputs" : [
        {
          "name" : "stdout",
          "text" : [
            "/data/gwas/anton/dante/vcf\n",
            "/data/gwas/anton/dante/result_alignment\n",
            "/data/gwas/anton/dante/clean_data\n",
            "/data/gwas/anton/dante/result_variation\n"
          ],
          "output_type" : "stream"
        }
      ]
    },
    {
      "cell_type" : "markdown",
      "execution_count" : 18,
      "metadata" : {
        "cell.metadata.exec_info" : {
          "startTs" : 1609215130858,
          "endTs" : 1609215130874
        },
        "language" : "text"
      },
      "language" : "text",
      "source" : [
        "Exploring variants\n",
        "=================="
      ],
      "outputs" : [
        {
          "execution_count" : 18,
          "data" : {
            "application/json" : [
              {
                "pos" : {
                  "sourceId" : "Cell18",
                  "start" : 0,
                  "end" : 9,
                  "point" : 0
                },
                "msg" : "not found: value Exploring",
                "severity" : 2
              },
              {
                "pos" : {
                  "sourceId" : "Cell18",
                  "start" : 19,
                  "end" : 37,
                  "point" : 19
                },
                "msg" : "not found: value ==================",
                "severity" : 2
              }
            ],
            "text/plain" : [
              "Error: not found: value Exploring (0)",
              "Error: not found: value ================== (19)"
            ]
          },
          "metadata" : {
            "rel" : "compiler_errors"
          },
          "output_type" : "execute_result"
        }
      ]
    },
    {
      "cell_type" : "code",
      "execution_count" : 20,
      "metadata" : {
        "cell.metadata.exec_info" : {
          "startTs" : 1609327045218,
          "endTs" : 1609327045459
        },
        "language" : "scala"
      },
      "language" : "scala",
      "source" : [
        "val variants = gwas_path / \"variants\"\n",
        "display(variants)"
      ],
      "outputs" : [
        {
          "name" : "stdout",
          "text" : [
            "/data/gwas/anton/variants/smoove\n",
            "/data/gwas/anton/variants/strelka_run\n"
          ],
          "output_type" : "stream"
        }
      ]
    },
    {
      "cell_type" : "code",
      "execution_count" : 25,
      "metadata" : {
        "cell.metadata.exec_info" : {
          "startTs" : 1609327047353,
          "endTs" : 1609327047397
        },
        "language" : "scala"
      },
      "language" : "scala",
      "source" : [
        "import org.apache.spark.SparkContext\n",
        "import org.bdgenomics.adam.rdd.ADAMContext._\n",
        "import org.bdgenomics.adam.rdd.read.AlignmentDataset\n"
      ],
      "outputs" : [
      ]
    },
    {
      "cell_type" : "markdown",
      "execution_count" : 52,
      "metadata" : {
        "language" : "text"
      },
      "language" : "text",
      "source" : [
        "# DANTE\n",
        "\n",
        "let's check DANTE variants first\n",
        "\n",
        "\n"
      ],
      "outputs" : [
      ]
    },
    {
      "cell_type" : "markdown",
      "execution_count" : 21,
      "metadata" : {
        "language" : "text"
      },
      "language" : "text",
      "source" : [
        "## SNP variants\n",
        "\n"
      ],
      "outputs" : [
      ]
    },
    {
      "cell_type" : "code",
      "execution_count" : 26,
      "metadata" : {
        "cell.metadata.exec_info" : {
          "startTs" : 1609218316739,
          "endTs" : 1609218317052
        },
        "language" : "scala"
      },
      "language" : "scala",
      "source" : [
        "val dante_variants = dante / \"result_variation\"\n",
        "display(dante_variants)"
      ],
      "outputs" : [
        {
          "name" : "stdout",
          "text" : [
            "/data/gwas/anton/dante/result_variation/cnv\n",
            "/data/gwas/anton/dante/result_variation/indel\n",
            "/data/gwas/anton/dante/result_variation/sv\n",
            "/data/gwas/anton/dante/result_variation/snp\n"
          ],
          "output_type" : "stream"
        }
      ]
    },
    {
      "cell_type" : "code",
      "execution_count" : 54,
      "metadata" : {
        "cell.metadata.exec_info" : {
          "startTs" : 1609327144157,
          "endTs" : 1609327148572
        },
        "language" : "scala"
      },
      "language" : "scala",
      "source" : [
        "val dante_snp_annotations = spark.readTSV( (dante_variants / \"snp\" / \"750018002018_WGZ.snp.annot.csv\").toString, sep=\",\", header = true)\n",
        "dante_snp_annotations.show(10,1000)"
      ],
      "outputs" : [
        {
          "name" : "stdout",
          "text" : [
            "+-----------------------+---------+--------------+-------------------------+------------+--------+------------+---------+---------+--------------+----+---------+----------------+-------+-------+----+-----+-----+---+---+---------+-------------------------------------------------------------------------------------------------------------------------------------------------------------------------------------------------------------------------------------------------------------------------------------------------------------------------------------------------------------------------------------------------------------------------------------------------------+-----------------------------------------------------------------------------------------------------------------------------------------------------------------------------------------------------------------------------------------------------------------------------------------------------------------------------------------------------------------------------------------------------------------------------------------------------------------------------------------------------------------------------+----+-------+----+---------+---------+---------+-----------+----------+----------+----+----+--------------+------+------+-----+----+---------+---------+---------------------+-----------------------+------------------------+--------------------------+-------------------+\n",
            "|                   Func|     Gene|Exonic|Biotype|               Transcript|Codon_Change|  Impact|      COSMIC|1000G_ALL|1000G_EAS|dbSNPv147_hg19|SIFT|PolyPhen2|MutationAssessor|MetaSVM|LOF|NMD| Chr|Start|  End|Ref|Obs|Otherinfo|                                                                                                                                                                                                                                                                                                                                                                                                                                                isoform|                                                                                                                                                                                                                                                                                                                                                                                                                                                                                                                       ENCODE|HGMD|Clinvar|GWAS|1000G_SAS|1000G_AMR|1000G_EUR|ESP6500_ALL|ESP6500_AA|ESP6500_EA|_c32| LRT|MutationTaster|FATHMM|MetaLR|VEST3|CADD|GERP++_NR|GERP++_RS|phyloP20way_mammalian|phyloP100way_vertebrate|phastCons20way_mammalian|phastCons100way_vertebrate|SiPhy_29way_logOdds|\n",
            "+-----------------------+---------+--------------+-------------------------+------------+--------+------------+---------+---------+--------------+----+---------+----------------+-------+-------+----+-----+-----+---+---+---------+-------------------------------------------------------------------------------------------------------------------------------------------------------------------------------------------------------------------------------------------------------------------------------------------------------------------------------------------------------------------------------------------------------------------------------------------------------+-----------------------------------------------------------------------------------------------------------------------------------------------------------------------------------------------------------------------------------------------------------------------------------------------------------------------------------------------------------------------------------------------------------------------------------------------------------------------------------------------------------------------------+----+-------+----+---------+---------+---------+-----------+----------+----------+----+----+--------------+------+------+-----+----+---------+---------+---------------------+-----------------------+------------------------+--------------------------+-------------------+\n",
            "|  upstream_gene_variant|  DDX11L1|          null|   NR_046018.2:n.-1291G>A|        null|MODIFIER| COSN6501206|     null|     null|    rs58108140|null|     null|            null|   null|   null|chr1|10583|10583|  G|  A|      het|                                                                                                                                                                                                                                                                                                                  upstream_gene_variant(MODIFIER||1291|n.-1291G>A||DDX11L1||NON_CODING|NR_046018.2||A),intergenic_region(MODIFIER|||n.10583G>A|||||||A)|H1ESC:SP1,GM12878:ZBTB33,HepG2:ZBTB33,GM12878:Tr4,HSMM:H4K20me1,NHEK:CTCF,H1ESC:TAF7,K562:H3K27ac,K562:CTCFL,H1ESC:CTCF,NHDF-AD:H4K20me1,HUVEC:DNase1,H1ESC:p300,HepG2:DNase1,K562:PolII,GM12878:H3K9me3,H1ESC:RXRA,NHEK:DNase1,HUVEC:Max,NH-A:DNase1,K562:DNase1,H1ESC:Egr1,HSMMtube:DNase1,H1ESC:DNase1,Monocytes-CD14+:H3K27ac,HepG2:TAF1,K562:ZBTB33,H1ESC:Rad21,K562:H3K9me3,H1ESC:H3K27me3,HepG2:PolII,HepG2:H4K20me1,HeLa-S3:DNase1,NHDF-AD:DNase1,K562:Egr1,GM12878:DNase1,NH-A:H4K20me1,H1ESC:H3K23me2,HMEC:H4K20me1|null|   null|null|     null|     null|     null|       null|      null|      null|null|null|          null|  null|  null| null|null|     null|     null|                 null|                   null|                    null|                      null|               null|\n",
            "|downstream_gene_variant|  DDX11L1|          null|     NR_046018.2:n.*55A>T|        null|MODIFIER|        null|0.0958466|    0.005|   rs546169444|null|     null|            null|   null|   null|chr1|14464|14464|  A|  T|      het|                                                                                                                                                                                                                                                                       downstream_gene_variant(MODIFIER||55|n.*55A>T||DDX11L1||NON_CODING|NR_046018.2||T),non_coding_transcript_exon_variant(MODIFIER|||n.1667T>A||WASH7P||NON_CODING|NR_024540.1|11|T)|                                                                                                                                                                                                                                                                                                    K562:H3K36me3,GM12878:H3K36me3,NHLF:H3K36me3,K562:PolII,Osteobl:H3K36me3,HSMMtube:DNase1,HUVEC:H3K36me3,A549:H3K36me3,DND-41:H3K36me3,H1ESC:H3K36me3,K562:H3K9ac,HSMMtube:H3K36me3,HSMM:H3K36me3,Monocytes-CD14+:H3K36me3|null|   null|null|   0.1943|   0.1138|   0.1859|       null|      null|      null|null|null|          null|  null|  null| null|null|     null|     null|                 null|                   null|                    null|                      null|               null|\n",
            "|downstream_gene_variant|  DDX11L1|          null|    NR_046018.2:n.*865A>T|        null|MODIFIER|        null| 0.640974|   0.5188|     rs2758118|null|     null|            null|   null|   null|chr1|15274|15274|  A|  T|      hom|                                                                                                                                                                                                                                                                                      downstream_gene_variant(MODIFIER||865|n.*865A>T||DDX11L1||NON_CODING|NR_046018.2||T),intron_variant(MODIFIER|||n.1233-236T>A||WASH7P||NON_CODING|NR_024540.1|9|T)|                                                                                                                                                                                                                                                                               NHEK:CTCF,K562:H3K36me3,GM12878:H3K36me3,NHLF:H3K36me3,K562:PolII,Osteobl:H3K36me3,H1ESC:DNase1,HUVEC:H3K36me3,A549:H3K36me3,DND-41:H3K36me3,H1ESC:H3K36me3,K562:H3K9ac,HSMMtube:H3K36me3,HSMM:H3K36me3,Monocytes-CD14+:H3K36me3,NHEK:H3K36me3|null|   null|null|   0.6472|   0.7205|   0.7078|       null|      null|      null|null|null|          null|  null|  null| null|null|     null|     null|                 null|                   null|                    null|                      null|               null|\n",
            "|downstream_gene_variant|MIR6859-1|          null|    NR_106918.1:n.*412C>A|        null|MODIFIER|        null|     null|     null|   rs200658479|null|     null|            null|   null|   null|chr1|16957|16957|  G|  T|      het|downstream_gene_variant(MODIFIER||412|n.*412C>A||MIR6859-1||NON_CODING|NR_106918.1||T),downstream_gene_variant(MODIFIER||412|n.*412C>A||MIR6859-2||NON_CODING|NR_107062.1||T),downstream_gene_variant(MODIFIER||412|n.*412C>A||MIR6859-3||NON_CODING|NR_107063.1||T),downstream_gene_variant(MODIFIER||412|n.*412C>A||MIR6859-4||NON_CODING|NR_128720.1||T),non_coding_transcript_exon_variant(MODIFIER|||n.822C>A||WASH7P||NON_CODING|NR_024540.1|7|T)|                                                                                                                                                                                                                                                                    K562:H3K36me3,GM12878:H3K36me3,NHLF:H3K36me3,K562:PolII,Osteobl:H3K36me3,HepG2:H3K36me3,HUVEC:H3K36me3,A549:H3K36me3,DND-41:H3K36me3,HeLa-S3:H3K36me3,H1ESC:H3K36me3,HSMMtube:H3K36me3,HSMM:H3K36me3,Monocytes-CD14+:H3K36me3,HMEC:H3K36me3,NHEK:H3K36me3|null|   null|null|     null|     null|     null|       null|      null|      null|null|null|          null|  null|  null| null|null|     null|     null|                 null|                   null|                    null|                      null|               null|\n",
            "|downstream_gene_variant|MIR6859-1|          null|    NR_106918.1:n.*392C>T|        null|MODIFIER|        null|     null|     null|   rs879121945|null|     null|            null|   null|   null|chr1|16977|16977|  G|  A|      het|downstream_gene_variant(MODIFIER||392|n.*392C>T||MIR6859-1||NON_CODING|NR_106918.1||A),downstream_gene_variant(MODIFIER||392|n.*392C>T||MIR6859-2||NON_CODING|NR_107062.1||A),downstream_gene_variant(MODIFIER||392|n.*392C>T||MIR6859-3||NON_CODING|NR_107063.1||A),downstream_gene_variant(MODIFIER||392|n.*392C>T||MIR6859-4||NON_CODING|NR_128720.1||A),non_coding_transcript_exon_variant(MODIFIER|||n.802C>T||WASH7P||NON_CODING|NR_024540.1|7|A)|                                                                                                                                                                                                                                                                    K562:H3K36me3,GM12878:H3K36me3,NHLF:H3K36me3,K562:PolII,Osteobl:H3K36me3,HepG2:H3K36me3,HUVEC:H3K36me3,A549:H3K36me3,DND-41:H3K36me3,HeLa-S3:H3K36me3,H1ESC:H3K36me3,HSMMtube:H3K36me3,HSMM:H3K36me3,Monocytes-CD14+:H3K36me3,HMEC:H3K36me3,NHEK:H3K36me3|null|   null|null|     null|     null|     null|       null|      null|      null|null|null|          null|  null|  null| null|null|     null|     null|                 null|                   null|                    null|                      null|               null|\n",
            "|         intron_variant|   WASH7P|          null|NR_024540.1:n.205-1671T>G|        null|MODIFIER|        null|     null|     null|    rs12354133|null|     null|            null|   null|   null|chr1|20037|20037|  A|  C|      het|                                                                                                                                                                                                                                                                                                                                                                           intron_variant(MODIFIER|||n.205-1671T>G||WASH7P||NON_CODING|NR_024540.1|2|C)|                                                                                                                                                                                                                   NHLF:H3K36me3,HepG2:DNase1,Osteobl:H3K36me3,Monocytes-CD14+:H4K20me1,HepG2:H3K9ac,HepG2:H3K4me1,HUVEC:H3K36me3,A549:H3K36me3,DND-41:H3K36me3,HeLa-S3:H3K36me3,H1ESC:H3K36me3,H1ESC:H3K27me3,HepG2:H3K27ac,HSMMtube:H3K36me3,HepG2:H3K4me2,HepG2:HNF4A,HSMM:H3K36me3,Monocytes-CD14+:H3K36me3,NHEK:H3K36me3|null|   null|null|     null|     null|     null|       null|      null|      null|null|null|          null|  null|  null| null|null|     null|     null|                 null|                   null|                    null|                      null|               null|\n",
            "|         intron_variant|   WASH7P|          null|NR_024540.1:n.205-1938C>G|        null|MODIFIER|COSN17460309|     null|     null|     rs6682950|null|     null|            null|   null|   null|chr1|20304|20304|  G|  C|      het|                                                                                                                                                                                                                                                                                                                                                                           intron_variant(MODIFIER|||n.205-1938C>G||WASH7P||NON_CODING|NR_024540.1|2|C)|                                                                                                                                                                                                                                                                                                            HUVEC:DNase1,HepG2:DNase1,Monocytes-CD14+:H4K20me1,HepG2:H3K9ac,HepG2:H3K4me1,DND-41:H3K36me3,HeLa-S3:H3K36me3,HepG2:H3K27ac,HSMMtube:H3K36me3,HepG2:H3K4me2,HSMM:H3K36me3,Monocytes-CD14+:H3K36me3,NHEK:H3K36me3|null|   null|null|     null|     null|     null|       null|      null|      null|null|null|          null|  null|  null| null|null|     null|     null|                 null|                   null|                    null|                      null|               null|\n",
            "|      intergenic_region|     null|          null|              :n.39230G>A|        null|MODIFIER|        null|     null|     null|    rs11489801|null|     null|            null|   null|   null|chr1|39230|39230|  G|  A|      het|                                                                                                                                                                                                                                                                                                                                                                                                       intergenic_region(MODIFIER|||n.39230G>A|||||||A)|                                                                                                                                                                                                                                                                                Osteobl:H3K27me3,NH-A:H3K27me3,HUVEC:H3K27me3,K562:H3K4me1,K562:H2AZ,K562:H3K27ac,HeLa-S3:H3K27me3,DND-41:H3K27me3,NHEK:H3K27me3,K562:H3K4me2,K562:DNase1,HSMMtube:H3K27me3,A549:H3K27me3,K562:H3K9ac,Monocytes-CD14+:H3K27me3,HepG2:H3K27me3|null|   null|null|     null|     null|     null|       null|      null|      null|null|null|          null|  null|  null| null|null|     null|     null|                 null|                   null|                    null|                      null|               null|\n",
            "|      intergenic_region|     null|          null|              :n.46633T>A|        null|MODIFIER|        null|     null|     null|   rs751105903|null|     null|            null|   null|   null|chr1|46633|46633|  T|  A|      het|                                                                                                                                                                                                                                                                                                                                                                                                       intergenic_region(MODIFIER|||n.46633T>A|||||||A)|                                                                                                                                                                                                                                                                                                                                                                            NH-A:H3K27me3,Osteobl:H3K27me3,HUVEC:H3K27me3,K562:H2AZ,HeLa-S3:H3K27me3,DND-41:H3K27me3,HSMMtube:H3K27me3,A549:H3K27me3,Monocytes-CD14+:H3K27me3|null|   null|null|     null|     null|     null|       null|      null|      null|null|null|          null|  null|  null| null|null|     null|     null|                 null|                   null|                    null|                      null|               null|\n",
            "|      intergenic_region|     null|          null|              :n.49298T>C|        null|MODIFIER|        null| 0.782149|   0.9633|    rs10399793|null|     null|            null|   null|   null|chr1|49298|49298|  T|  C|      hom|                                                                                                                                                                                                                                                                                                                                                                                                       intergenic_region(MODIFIER|||n.49298T>C|||||||C)|                                                                                                                                                                                                                                                                                                                                                                        Osteobl:H3K27me3,HUVEC:H3K27me3,HeLa-S3:H3K27me3,DND-41:H3K27me3,NHEK:H3K27me3,HSMM:H3K27me3,HSMMtube:H3K27me3,A549:H3K27me3,Monocytes-CD14+:H3K27me3|null|   null|null|   0.8855|   0.7104|   0.8936|       null|      null|      null|null|null|          null|  null|  null| null|null|     null|     null|                 null|                   null|                    null|                      null|               null|\n",
            "+-----------------------+---------+--------------+-------------------------+------------+--------+------------+---------+---------+--------------+----+---------+----------------+-------+-------+----+-----+-----+---+---+---------+-------------------------------------------------------------------------------------------------------------------------------------------------------------------------------------------------------------------------------------------------------------------------------------------------------------------------------------------------------------------------------------------------------------------------------------------------------+-----------------------------------------------------------------------------------------------------------------------------------------------------------------------------------------------------------------------------------------------------------------------------------------------------------------------------------------------------------------------------------------------------------------------------------------------------------------------------------------------------------------------------+----+-------+----+---------+---------+---------+-----------+----------+----------+----+----+--------------+------+------+-----+----+---------+---------+---------------------+-----------------------+------------------------+--------------------------+-------------------+\n",
            "only showing top 10 rows\n",
            "\n"
          ],
          "output_type" : "stream"
        }
      ]
    },
    {
      "cell_type" : "code",
      "execution_count" : 53,
      "metadata" : {
        "language" : "scala"
      },
      "language" : "scala",
      "source" : [
        "//TODO: do some exploration"
      ],
      "outputs" : [
      ]
    },
    {
      "cell_type" : "markdown",
      "execution_count" : 22,
      "metadata" : {
        "language" : "text"
      },
      "language" : "text",
      "source" : [
        "# Our Variants\n",
        "\n",
        "Now let's check variants computed by our pipeline\n",
        "\n",
        "\n"
      ],
      "outputs" : [
      ]
    },
    {
      "cell_type" : "code",
      "execution_count" : 17,
      "metadata" : {
        "cell.metadata.exec_info" : {
          "startTs" : 1609327110699,
          "endTs" : 1609327111714
        },
        "language" : "scala"
      },
      "language" : "scala",
      "source" : [
        "val smoove = variants / \"smoove\" / \"antonkulaga-smoove.vcf.gz\"\n",
        "val cnv = spark.sparkContext.loadVcf(smoove.toString)\n",
        "cnv"
      ],
      "outputs" : [
        {
          "execution_count" : 17,
          "data" : {
            "text/plain" : [
              "RDDBoundVariantContextDataset with 194 reference sequences and 1 samples"
            ]
          },
          "metadata" : {
            "name" : "Out",
            "type" : "VariantContextDataset"
          },
          "output_type" : "execute_result"
        }
      ]
    },
    {
      "cell_type" : "code",
      "execution_count" : 27,
      "metadata" : {
        "cell.metadata.exec_info" : {
          "startTs" : 1609327114414,
          "endTs" : 1609327117868
        },
        "language" : "scala"
      },
      "language" : "scala",
      "source" : [
        "cnv.dataset.show(10,1000)"
      ],
      "outputs" : [
        {
          "name" : "stdout",
          "text" : [
            "+-------------+--------+--------+----------------------------------------------------------------------------------------------------------------------------------------------------------------------------------------------------------------------------------------------------------------------------------------------------------------------------------------------------------------------------------------------------------------------------------------------------------------------------------------------------------------------------------------------------------------------------------------------------------------------------------------------------------------------------------------------------------------------------------------------------------------------------------------------------------------------------------------------------------------------------------------------------------------------------------------------------------------------------------------------------------------------------------------+--------------------------------------------------------------------------------------------------------------------------------------------------------------------------------------------------------------------------------------+\n",
            "|referenceName|   start|     end|                                                                                                                                                                                                                                                                                                                                                                                                                                                                                                                                                                                                                                                                                                                                                                                                                                                                                                                                                                                                                                 variant|                                                                                                                                                                                                                             genotypes|\n",
            "+-------------+--------+--------+----------------------------------------------------------------------------------------------------------------------------------------------------------------------------------------------------------------------------------------------------------------------------------------------------------------------------------------------------------------------------------------------------------------------------------------------------------------------------------------------------------------------------------------------------------------------------------------------------------------------------------------------------------------------------------------------------------------------------------------------------------------------------------------------------------------------------------------------------------------------------------------------------------------------------------------------------------------------------------------------------------------------------------------+--------------------------------------------------------------------------------------------------------------------------------------------------------------------------------------------------------------------------------------+\n",
            "|            1| 1028516| 1029087|[1, 1028516, 1029087, [1], false, N, <DEL>,, false,, [], [,,,,,,,,,,,,,,, false, [], [STRANDS -> +-:4, CIEND -> -230,29, CIPOS -> -30,284, CIPOS95 -> -7,74, CIEND95 -> -59,8, SVLEN -> -570, IMPRECISE -> true, END -> 1029087, SU -> 4, PRPOS -> 2.73096e-06,3.69936e-06,5.0115e-06,6.78748e-06,9.19411e-06,1.24541e-05,1.68722e-05,2.28499e-05,3.09372e-05,4.18591e-05,5.66165e-05,7.65598e-05,0.000103542,0.000140023,0.000189311,0.000255902,0.000345879,0.000467301,0.000631053,0.00085168,0.00114907,0.00154917,0.00208813,0.00281479,0.00379557,0.00511799,0.0069002,0.00929979,0.0125291,0.0168702,0.0227067,0.0224693,0.0222107,0.0219469,0.0216881,0.0214328,0.0211763,0.0209109,0.0206373,0.0203457,0.0200438,0.0197325,0.0194202,0.019105,0.0187915,0.0184848,0.0181778,0.0178721,0.0175614,0.0172431,0.0169202,0.0165881,0.0162523,0.0159159,0.0155891,0.0152641,0.0149429,0.0146193,0.0143018,0.0139793,0.0136581,0.0133272,0.0129993,0.0126733,0.0123486,0.0120271,0.0117115,0.0114012,0.0110963,0.0107913,0.0104869,...|               [[[1, 1028516, 1029087, [1], false, N, <DEL>,, false,, [],], 1, 1028516, 1029087, [true, true, [],,,,,,,, [], [],,, [SU -> 4, PE -> 4, SR -> 0]], antonkulaga,,, [NO_CALL, NO_CALL],,,,,,, [], [], [], false, false,,]]|\n",
            "|            1| 2653863| 2654217|[1, 2653863, 2654217, [2], false, N, <DUP>,, false,, [], [,,,,,,,,,,,,,,, false, [], [STRANDS -> -+:4, CIEND -> -30,299, CIPOS -> -312,29, CIPOS95 -> -92,3, CIEND95 -> -3,86, SVLEN -> 353, IMPRECISE -> true, END -> 2654217, SU -> 4, PRPOS -> 2.3832e-15,3.54788e-15,5.28359e-15,7.71531e-15,1.0522e-14,1.40864e-14,1.88104e-14,2.42817e-14,3.11676e-14,3.95978e-14,4.8395e-14,6.02646e-14,7.44941e-14,9.17398e-14,1.0915e-13,1.32724e-13,1.60418e-13,1.97546e-13,2.37259e-13,2.76216e-13,3.32998e-13,3.98357e-13,4.77069e-13,5.72066e-13,6.76477e-13,8.01953e-13,9.51984e-13,1.12007e-12,1.31269e-12,1.54114e-12,1.80776e-12,2.15494e-12,2.54456e-12,2.96998e-12,3.51091e-12,4.09511e-12,4.80096e-12,5.66211e-12,6.65322e-12,7.70414e-12,9.06975e-12,1.05681e-11,1.24453e-11,1.44067e-11,1.65817e-11,1.90964e-11,2.23481e-11,2.59234e-11,3.0083e-11,3.48214e-11,4.02424e-11,4.68196e-11,5.42251e-11,6.26792e-11,7.27345e-11,8.33307e-11,9.65343e-11,1.12248e-10,1.29081e-10,1.50637e-10,1.74805e-10,2.03061e-10,2.33203e-10,2.70...|               [[[1, 2653863, 2654217, [2], false, N, <DUP>,, false,, [],], 1, 2653863, 2654217, [true, true, [],,,,,,,, [], [],,, [SU -> 4, PE -> 4, SR -> 0]], antonkulaga,,, [NO_CALL, NO_CALL],,,,,,, [], [], [], false, false,,]]|\n",
            "|            1| 2106589| 2106864|[1, 2106589, 2106864, [3], false, N, <DUP>,, false,, [], [,,,,,,,,,,,,,,, false, [], [STRANDS -> -+:4, CIEND -> -30,306, CIPOS -> -296,29, CIPOS95 -> -86,6, CIEND95 -> -6,89, SVLEN -> 274, IMPRECISE -> true, END -> 2106864, SU -> 4, PRPOS -> 3.27648e-15,8.06748e-15,1.30265e-14,1.87869e-14,2.72998e-14,3.92411e-14,5.39764e-14,7.01876e-14,9.05049e-14,1.15287e-13,1.45668e-13,1.80333e-13,2.18134e-13,2.67116e-13,3.21879e-13,4.0261e-13,4.70751e-13,5.53708e-13,6.7322e-13,8.16433e-13,9.82928e-13,1.16598e-12,1.3982e-12,1.65507e-12,1.98386e-12,2.32397e-12,2.76016e-12,3.28658e-12,3.8373e-12,4.56757e-12,5.37134e-12,6.21198e-12,7.36514e-12,8.61944e-12,1.01206e-11,1.18937e-11,1.40504e-11,1.63497e-11,1.92024e-11,2.24219e-11,2.60243e-11,3.0228e-11,3.49019e-11,4.01338e-11,4.70451e-11,5.4365e-11,6.21694e-11,7.20636e-11,8.37936e-11,9.76176e-11,1.13504e-10,1.31245e-10,1.52674e-10,1.75576e-10,2.00897e-10,2.31771e-10,2.67248e-10,3.09105e-10,3.59971e-10,4.19223e-10,4.82229e-10,5.58373e-10,6.46598e-10,7.443...|               [[[1, 2106589, 2106864, [3], false, N, <DUP>,, false,, [],], 1, 2106589, 2106864, [true, true, [],,,,,,,, [], [],,, [SU -> 4, PE -> 4, SR -> 0]], antonkulaga,,, [NO_CALL, NO_CALL],,,,,,, [], [], [], false, false,,]]|\n",
            "|            1| 2683311| 2684372|[1, 2683311, 2684372, [4], false, N, <DUP>,, false,, [], [,,,,,,,,,,,,,,, false, [], [STRANDS -> -+:4, CIEND -> -30,285, CIPOS -> -311,29, CIPOS95 -> -87,6, CIEND95 -> -4,85, SVLEN -> 1060, IMPRECISE -> true, END -> 2684372, SU -> 4, PRPOS -> 8.91699e-17,2.70005e-16,5.44518e-16,9.01352e-16,1.46095e-15,2.319e-15,3.44981e-15,4.83372e-15,6.75756e-15,8.97318e-15,1.17153e-14,1.52456e-14,1.96354e-14,2.42087e-14,3.03366e-14,3.88293e-14,4.79047e-14,5.88014e-14,7.16954e-14,9.00181e-14,1.09732e-13,1.3252e-13,1.62438e-13,1.96245e-13,2.40969e-13,2.87136e-13,3.43208e-13,4.12106e-13,4.88535e-13,5.84259e-13,6.98688e-13,8.22767e-13,9.80348e-13,1.1675e-12,1.36922e-12,1.62385e-12,1.91951e-12,2.24494e-12,2.64877e-12,3.13419e-12,3.63967e-12,4.29729e-12,5.00968e-12,5.78068e-12,6.7442e-12,7.89317e-12,9.12114e-12,1.06551e-11,1.24016e-11,1.44823e-11,1.70068e-11,1.95819e-11,2.26079e-11,2.643e-11,3.03388e-11,3.51833e-11,4.08683e-11,4.70652e-11,5.55193e-11,6.45103e-11,7.49448e-11,8.7251e-11,1.0097e-10,1.1682e...|               [[[1, 2683311, 2684372, [4], false, N, <DUP>,, false,, [],], 1, 2683311, 2684372, [true, true, [],,,,,,,, [], [],,, [SU -> 4, PE -> 4, SR -> 0]], antonkulaga,,, [NO_CALL, NO_CALL],,,,,,, [], [], [], false, false,,]]|\n",
            "|            1| 3181088| 3181829|[1, 3181088, 3181829, [5], false, N, <DUP>,, false,, [], [,,,,,,,,,,,,,,, false, [], [STRANDS -> -+:5, CIEND -> -30,149, CIPOS -> -282,29, CIPOS95 -> -76,3, CIEND95 -> -10,43, SVLEN -> 740, IMPRECISE -> true, END -> 3181829, SU -> 5, PRPOS -> 9.31815e-17,2.38613e-16,4.0112e-16,5.88058e-16,8.92461e-16,1.30893e-15,1.81219e-15,2.39438e-15,3.23595e-15,4.24694e-15,5.47989e-15,7.02099e-15,8.85802e-15,1.12688e-14,1.40024e-14,1.76054e-14,2.13909e-14,2.65626e-14,3.30298e-14,4.1037e-14,5.06451e-14,6.22669e-14,7.73443e-14,9.50724e-14,1.16877e-13,1.40785e-13,1.72733e-13,2.1205e-13,2.56839e-13,3.12649e-13,3.81759e-13,4.64418e-13,5.65407e-13,6.83409e-13,8.27328e-13,9.99437e-13,1.20259e-12,1.43435e-12,1.73489e-12,2.09764e-12,2.5141e-12,3.00314e-12,3.61013e-12,4.34022e-12,5.22425e-12,6.22228e-12,7.42102e-12,8.85727e-12,1.0602e-11,1.27112e-11,1.51987e-11,1.81554e-11,2.17901e-11,2.60967e-11,3.10326e-11,3.68701e-11,4.39718e-11,5.2176e-11,6.25818e-11,7.46011e-11,8.84117e-11,1.06105e-10,1.2583e-10,1.499...|               [[[1, 3181088, 3181829, [5], false, N, <DUP>,, false,, [],], 1, 3181088, 3181829, [true, true, [],,,,,,,, [], [],,, [SU -> 5, PE -> 5, SR -> 0]], antonkulaga,,, [NO_CALL, NO_CALL],,,,,,, [], [], [], false, false,,]]|\n",
            "|            1|10422443|10423711|[1, 10422443, 10423711, [6], false, N, <DEL>,, false,, [], [,,,,,,,,,,,,,,, false, [], [STRANDS -> +-:8, CIEND -> -228,29, CIPOS -> -30,211, CIPOS95 -> -4,45, CIEND95 -> -56,1, SVLEN -> -1267, IMPRECISE -> true, END -> 10423711, SU -> 8, PRPOS -> 4.1053e-13,1.37917e-12,4.63113e-12,1.55488e-11,5.22097e-11,1.75281e-10,5.88215e-10,1.4519e-09,3.57979e-09,8.82206e-09,2.17279e-08,5.34878e-08,1.31583e-07,3.23441e-07,7.94953e-07,1.954e-06,4.80132e-06,1.1789e-05,2.89201e-05,7.09106e-05,0.000127714,0.000229696,0.000412851,0.000741966,0.00133304,0.00239504,0.00430077,0.00771448,0.0138273,0.0247491,0.0442577,0.0427988,0.0413156,0.0398764,0.0384872,0.0371205,0.0357859,0.0344799,0.0331872,0.0318946,0.0305987,0.0293014,0.028056,0.0268502,0.0256973,0.0245907,0.0235052,0.0224454,0.0213968,0.0203767,0.0193823,0.0184166,0.0174764,0.0165575,0.0156865,0.0148556,0.0140681,0.0133154,0.0125865,0.0118746,0.0111915,0.0105305,0.00989317,0.00928467,0.0087066,0.00816099,0.00764472,0.00715596,0.00669101,0.006249...|           [[[1, 10422443, 10423711, [6], false, N, <DEL>,, false,, [],], 1, 10422443, 10423711, [true, true, [],,,,,,,, [], [],,, [SU -> 8, PE -> 8, SR -> 0]], antonkulaga,,, [NO_CALL, NO_CALL],,,,,,, [], [], [], false, false,,]]|\n",
            "|            1|13235373|13240725|[1, 13235373, 13240725, [7], false, N, <DEL>,, false,, [], [,,,,,,,,,,,,,,, false, [], [STRANDS -> +-:5, CIEND -> -214,29, CIPOS -> -30,275, CIPOS95 -> -6,80, CIEND95 -> -62,8, SVLEN -> -5351, IMPRECISE -> true, END -> 13240725, SU -> 5, PRPOS -> 5.79435e-13,2.6895e-12,1.24835e-11,5.79435e-11,2.6895e-10,9.18285e-10,3.13374e-09,1.0694e-08,3.64948e-08,1.24541e-07,4.25026e-07,1.45047e-06,3.64119e-06,9.13529e-06,2.29161e-05,4.22782e-05,7.79543e-05,0.000143741,0.000265062,0.000488816,0.000901434,0.00122261,0.0016569,0.00224503,0.00304116,0.00411789,0.0055754,0.00754729,0.0102176,0.0138342,0.0187319,0.0186495,0.0185515,0.0184474,0.0183373,0.0182221,0.0181057,0.0179839,0.0178588,0.0177356,0.0176136,0.0174855,0.0173501,0.0172045,0.0170512,0.0168869,0.0167208,0.0165512,0.0163827,0.0162126,0.0160413,0.0158636,0.0156746,0.0154733,0.0152631,0.015048,0.0148334,0.0146158,0.0144028,0.0141891,0.0139735,0.0137498,0.0135187,0.013279,0.0130329,0.0127818,0.0125328,0.0122831,0.0120356,0.0117916,0.011543...|           [[[1, 13235373, 13240725, [7], false, N, <DEL>,, false,, [],], 1, 13235373, 13240725, [true, true, [],,,,,,,, [], [],,, [SU -> 5, PE -> 5, SR -> 0]], antonkulaga,,, [NO_CALL, NO_CALL],,,,,,, [], [], [], false, false,,]]|\n",
            "|            1|16050022|16059838|[1, 16050022, 16059838, [8], false, N, <DUP>,, false,, [], [,,,,,,,,,,,,,,, false, [], [STRANDS -> -+:4, CIEND -> -28,315, CIPOS -> -339,29, CIPOS95 -> -98,1, CIEND95 -> -2,95, SVLEN -> 9815, IMPRECISE -> true, END -> 16059838, SU -> 4, PRPOS -> 1.85662e-20,3.91468e-19,1.65229e-18,4.21189e-18,1.11681e-17,2.76878e-17,5.58172e-17,9.36999e-17,1.63721e-16,2.5798e-16,3.78914e-16,5.70198e-16,7.83632e-16,1.07824e-15,1.43258e-15,2.01162e-15,2.43172e-15,3.1588e-15,4.20057e-15,5.57109e-15,7.22484e-15,8.86344e-15,1.16465e-14,1.43813e-14,1.82243e-14,2.23375e-14,2.85495e-14,3.63438e-14,4.40104e-14,5.39414e-14,6.48918e-14,7.67796e-14,9.39471e-14,1.12327e-13,1.35501e-13,1.6639e-13,1.99612e-13,2.33817e-13,2.79433e-13,3.38763e-13,3.94752e-13,4.58648e-13,5.43248e-13,6.35871e-13,7.65919e-13,8.81121e-13,9.98822e-13,1.17489e-12,1.39027e-12,1.63721e-12,1.93748e-12,2.2343e-12,2.61391e-12,3.08628e-12,3.54757e-12,4.09381e-12,4.76862e-12,5.52361e-12,6.63642e-12,7.75334e-12,8.89061e-12,1.05593e-11,1.22984e-11...|           [[[1, 16050022, 16059838, [8], false, N, <DUP>,, false,, [],], 1, 16050022, 16059838, [true, true, [],,,,,,,, [], [],,, [SU -> 4, PE -> 4, SR -> 0]], antonkulaga,,, [NO_CALL, NO_CALL],,,,,,, [], [], [], false, false,,]]|\n",
            "|            1|16050018|16059762|[1, 16050018, 16059762, [9], false, N, <DEL>,, false,, [], [,,,,,,,,,,,,,,, false, [], [STRANDS -> +-:7, CIEND -> -325,29, CIPOS -> -30,156, CIPOS95 -> -8,43, CIEND95 -> -75,1, SVLEN -> -9743, IMPRECISE -> true, END -> 16059762, SU -> 7, PRPOS -> 8.6922e-12,2.89386e-11,9.63048e-11,3.20219e-10,7.82709e-10,1.91289e-09,4.67076e-09,1.14001e-08,2.78239e-08,6.79157e-08,1.65681e-07,4.03833e-07,9.83606e-07,2.39358e-06,5.82249e-06,1.41548e-05,3.44309e-05,8.36845e-05,0.000203294,0.000494117,0.00120068,0.00214497,0.003824,0.00681762,0.00893068,0.0116896,0.0152948,0.0199992,0.0261449,0.034189,0.0446678,0.0428847,0.0410946,0.0393593,0.037701,0.0360705,0.0344689,0.0329077,0.0314204,0.0299951,0.0286057,0.0272691,0.0259892,0.024721,0.0234655,0.0222598,0.0211254,0.0200402,0.0190008,0.0180142,0.0170829,0.0161667,0.0152887,0.0144351,0.0136297,0.0128612,0.0121362,0.0114224,0.0107404,0.0101033,0.00950784,0.00893985,0.00839627,0.0078694,0.00736216,0.0068903,0.00644015,0.00601614,0.00561113,0.00523651,0.0...|           [[[1, 16050018, 16059762, [9], false, N, <DEL>,, false,, [],], 1, 16050018, 16059762, [true, true, [],,,,,,,, [], [],,, [SU -> 7, PE -> 7, SR -> 0]], antonkulaga,,, [NO_CALL, NO_CALL],,,,,,, [], [], [], false, false,,]]|\n",
            "|            1|16088820|16088821|[1, 16088820, 16088821, [10_1], false, N, N]1:16089598],, false,, [], [,,,,,,,,,,,,,,, false, [], [STRANDS -> ++:6, CIEND -> -30,255, EVENT -> 10, CIPOS -> -17,263, MATEID -> 10_2, CIPOS95 -> -1,82, CIEND95 -> -2,58, IMPRECISE -> true, SU -> 6, PRPOS -> 2.005e-15,1.26507e-14,7.98203e-14,5.03632e-13,3.1777e-12,2.005e-11,1.26507e-10,7.98203e-10,5.03632e-09,3.1777e-08,2.005e-07,1.26507e-06,7.98203e-06,5.03632e-05,0.00031777,0.002005,0.0126507,0.0171914,0.0171413,0.0170815,0.0170236,0.0169648,0.0169099,0.0168546,0.016799,0.016737,0.0166635,0.0165707,0.0164705,0.0163705,0.0162754,0.0161892,0.0161056,0.01602,0.015929,0.0158341,0.0157264,0.0155986,0.0154553,0.0152956,0.015141,0.0150012,0.0148808,0.0147632,0.0146469,0.0145214,0.0143894,0.0142403,0.0140788,0.0138953,0.0136943,0.0134943,0.0133128,0.0131462,0.0129823,0.0128092,0.012619,0.0123966,0.0121543,0.0119022,0.0116598,0.0114223,0.011189,0.0109654,0.0107474,0.0105349,0.0103195,0.0100921,0.00985167,0.00959752,0.00934222,0.0090958,0.008855...|[[[1, 16088820, 16088821, [10_1], false, N, N]1:16089598],, false,, [],], 1, 16088820, 16088821, [true, true, [],,,,,,,, [], [],,, [SU -> 6, PE -> 6, SR -> 0]], antonkulaga,,, [NO_CALL, NO_CALL],,,,,,, [], [], [], false, false,,]]|\n",
            "+-------------+--------+--------+----------------------------------------------------------------------------------------------------------------------------------------------------------------------------------------------------------------------------------------------------------------------------------------------------------------------------------------------------------------------------------------------------------------------------------------------------------------------------------------------------------------------------------------------------------------------------------------------------------------------------------------------------------------------------------------------------------------------------------------------------------------------------------------------------------------------------------------------------------------------------------------------------------------------------------------------------------------------------------------------------------------------------------------+--------------------------------------------------------------------------------------------------------------------------------------------------------------------------------------------------------------------------------------+\n",
            "only showing top 10 rows\n",
            "\n"
          ],
          "output_type" : "stream"
        }
      ]
    },
    {
      "cell_type" : "markdown",
      "execution_count" : 19,
      "metadata" : {
        "language" : "text"
      },
      "language" : "text",
      "source" : [
        "# Exploring annotations\n",
        "\n",
        "exploring VEP annotations\n",
        "\n",
        "\n"
      ],
      "outputs" : [
      ]
    },
    {
      "cell_type" : "code",
      "execution_count" : 38,
      "metadata" : {
        "cell.metadata.exec_info" : {
          "startTs" : 1609327169399,
          "endTs" : 1609327170524
        },
        "language" : "scala"
      },
      "language" : "scala",
      "source" : [
        "val gene_names: DataFrame = spark.readTSV( \"/data/sources/yspecies/data/input/genes/reference_genes.tsv\", header = true)\n",
        " .withColumnRenamed(\"gene\", \"Gene\")\n",
        "println(gene_names.count)\n",
        "gene_names.show(10,1000)"
      ],
      "outputs" : [
        {
          "name" : "stdout",
          "text" : [
            "67996\n",
            "+------------+---------------+-------+\n",
            "|     species|           Gene| symbol|\n",
            "+------------+---------------+-------+\n",
            "|Homo_sapiens|ENSG00000242265|  PEG10|\n",
            "|Homo_sapiens|ENSG00000139990|  DCAF5|\n",
            "|Homo_sapiens|ENSG00000073921| PICALM|\n",
            "|Homo_sapiens|ENSG00000139687|    RB1|\n",
            "|Homo_sapiens|ENSG00000119977|  TCTN3|\n",
            "|Homo_sapiens|ENSG00000145592|  RPL37|\n",
            "|Homo_sapiens|ENSG00000242866|   STRC|\n",
            "|Homo_sapiens|ENSG00000135506|    OS9|\n",
            "|Homo_sapiens|ENSG00000150687| PRSS23|\n",
            "|Homo_sapiens|ENSG00000162426|SLC45A1|\n",
            "+------------+---------------+-------+\n",
            "only showing top 10 rows\n",
            "\n"
          ],
          "output_type" : "stream"
        }
      ]
    },
    {
      "cell_type" : "code",
      "execution_count" : 39,
      "metadata" : {
        "cell.metadata.exec_info" : {
          "startTs" : 1609327176022,
          "endTs" : 1609327176093
        },
        "language" : "scala"
      },
      "language" : "scala",
      "source" : [
        "def with_names(df: DataFrame, how: String=\"inner\") = df.join(gene_names, Seq(\"Gene\"), how)"
      ],
      "outputs" : [
      ]
    },
    {
      "cell_type" : "code",
      "execution_count" : 45,
      "metadata" : {
        "cell.metadata.exec_info" : {
          "startTs" : 1609243961197,
          "endTs" : 1609243961510
        },
        "language" : "scala"
      },
      "language" : "scala",
      "source" : [
        "val anno_path = gwas_path / \"vep\"\n",
        "display(anno_path)"
      ],
      "outputs" : [
        {
          "name" : "stdout",
          "text" : [
            "/data/gwas/anton/vep/strelka\n"
          ],
          "output_type" : "stream"
        }
      ]
    },
    {
      "cell_type" : "markdown",
      "execution_count" : 41,
      "metadata" : {
        "language" : "text"
      },
      "language" : "text",
      "source" : [
        "# SNPs\n",
        "\n"
      ],
      "outputs" : [
      ]
    },
    {
      "cell_type" : "code",
      "execution_count" : 43,
      "metadata" : {
        "cell.metadata.exec_info" : {
          "startTs" : 1609327182736,
          "endTs" : 1609327182804
        },
        "language" : "scala"
      },
      "language" : "scala",
      "source" : [
        "display(anno_path / \"strelka\" / \"annotations\")"
      ],
      "outputs" : [
        {
          "name" : "stdout",
          "text" : [
            "/data/gwas/anton/vep/strelka/annotations/antonkulaga_variant_annotations.tsv\n",
            "/data/gwas/anton/vep/strelka/annotations/antonkulaga_variant_annotations.tsv_summary.html\n"
          ],
          "output_type" : "stream"
        }
      ]
    },
    {
      "cell_type" : "code",
      "execution_count" : 46,
      "metadata" : {
        "cell.metadata.exec_info" : {
          "startTs" : 1609327196059,
          "endTs" : 1609327196209
        },
        "language" : "scala"
      },
      "language" : "scala",
      "source" : [
        "val columns = List(\"Uploaded_variation\", \"Location\", \"Allele\", \"Gene\", \"Feature\", \"Feature_type\", \"Consequence\", \"cDNA_position\", \"CDS_position\", \"Protein_position\", \"Amino_acids\", \"Codons\", \"Existing_variation\", \"IND\", \"ZYG\", \"IMPACT\", \"DISTANCE\", \"STRAND\", \"FLAGS\", \"VARIANT_CLASS\", \"SYMBOL\", \"SYMBOL_SOURCE\", \"HGNC_ID\", \"BIOTYPE\", \"CANONICAL\", \"MANE\", \"TSL\", \"APPRIS\", \"CCDS\", \"ENSP\", \"SWISSPROT\", \"TREMBL\", \"UNIPARC\", \"UNIPROT_ISOFORM\", \"GENE_PHENO\", \"SIFT\", \"PolyPhen\", \"EXON\", \"INTRON\", \"DOMAINS\", \"miRNA\", \"HGVSc\", \"HGVSp\", \"HGVS_OFFSET\", \"AF\", \"AFR_AF\", \"AMR_AF\", \"EAS_AF\", \"EUR_AF\", \"SAS_AF\", \"AA_AF\", \"EA_AF\", \"gnomAD_AF\", \"gnomAD_AFR_AF\", \"gnomAD_AMR_AF\", \"gnomAD_ASJ_AF\", \"gnomAD_EAS_AF\", \"gnomAD_FIN_AF\", \"gnomAD_NFE_AF\", \"gnomAD_OTH_AF\", \"gnomAD_SAS_AF\", \"MAX_AF\", \"MAX_AF_POPS\", \"CLIN_SIG\", \"SOMATIC\", \"PHENO\", \"PUBMED\", \"MOTIF_NAME\", \"MOTIF_POS\", \"HIGH_INF_POS\", \"MOTIF_SCORE_CHANGE\", \"TRANSCRIPTION_FACTORS\", \"G2P_complete\", \"G2P_flag\", \"G2P_gene_req\")"
      ],
      "outputs" : [
      ]
    },
    {
      "cell_type" : "code",
      "execution_count" : 44,
      "metadata" : {
        "cell.metadata.exec_info" : {
          "startTs" : 1609327197241,
          "endTs" : 1609327222956
        },
        "language" : "scala"
      },
      "language" : "scala",
      "source" : [
        "val snp_path = \"/data/cromwell-executions/annotations/c2db854a-0256-4598-8497-bb5a0e69d528/call-vep_annotation/execution/antonkulaga_variant_annotations.tsv\"\n",
        "val annotations = spark.readTSV(snp_path).toDF(columns:_*)\n",
        "annotations.show(10,10000)"
      ],
      "outputs" : [
        {
          "name" : "stdout",
          "text" : [
            "+------------------+--------+------+---------------+---------------+-----------------+-------------------------+-------------+------------+----------------+-----------+------+------------------+-------+---+--------+--------+------+-----+-------------+-------+-------------+----------+----------------------------------+---------+----+---+------+----+----+---------+------+-------+---------------+----------+----+--------+----+------+-------+-----+-----+-----+-----------+---+------+------+------+------+------+-----+-----+---------+-------------+-------------+-------------+-------------+-------------+-------------+-------------+-------------+------+-----------+--------+-------+-----+------+----------+---------+------------+------------------+---------------------------------------------------------------------------------------------------------------------------------------------+------------+--------+------------+\n",
            "|Uploaded_variation|Location|Allele|           Gene|        Feature|     Feature_type|              Consequence|cDNA_position|CDS_position|Protein_position|Amino_acids|Codons|Existing_variation|    IND|ZYG|  IMPACT|DISTANCE|STRAND|FLAGS|VARIANT_CLASS| SYMBOL|SYMBOL_SOURCE|   HGNC_ID|                           BIOTYPE|CANONICAL|MANE|TSL|APPRIS|CCDS|ENSP|SWISSPROT|TREMBL|UNIPARC|UNIPROT_ISOFORM|GENE_PHENO|SIFT|PolyPhen|EXON|INTRON|DOMAINS|miRNA|HGVSc|HGVSp|HGVS_OFFSET| AF|AFR_AF|AMR_AF|EAS_AF|EUR_AF|SAS_AF|AA_AF|EA_AF|gnomAD_AF|gnomAD_AFR_AF|gnomAD_AMR_AF|gnomAD_ASJ_AF|gnomAD_EAS_AF|gnomAD_FIN_AF|gnomAD_NFE_AF|gnomAD_OTH_AF|gnomAD_SAS_AF|MAX_AF|MAX_AF_POPS|CLIN_SIG|SOMATIC|PHENO|PUBMED|MOTIF_NAME|MOTIF_POS|HIGH_INF_POS|MOTIF_SCORE_CHANGE|                                                                                                                        TRANSCRIPTION_FACTORS|G2P_complete|G2P_flag|G2P_gene_req|\n",
            "+------------------+--------+------+---------------+---------------+-----------------+-------------------------+-------------+------------+----------------+-----------+------+------------------+-------+---+--------+--------+------+-----+-------------+-------+-------------+----------+----------------------------------+---------+----+---+------+----+----+---------+------+-------+---------------+----------+----+--------+----+------+-------+-----+-----+-----+-----------+---+------+------+------+------+------+-----+-----+---------+-------------+-------------+-------------+-------------+-------------+-------------+-------------+-------------+------+-----------+--------+-------+-----+------+----------+---------+------------+------------------+---------------------------------------------------------------------------------------------------------------------------------------------+------------+--------+------------+\n",
            "|       1_10216_T/C| 1:10216|     C|ENSG00000223972|ENST00000450305|       Transcript|    upstream_gene_variant|            -|           -|               -|          -|     -|                 -|SAMPLE1|HET|MODIFIER|    1794|     1|    -|          SNV|DDX11L1|         HGNC|HGNC:37102|transcribed_unprocessed_pseudogene|        -|   -|  -|     -|   -|   -|        -|     -|      -|              -|         -|   -|       -|   -|     -|      -|    -|    -|    -|          -|  -|     -|     -|     -|     -|     -|    -|    -|        -|            -|            -|            -|            -|            -|            -|            -|            -|     -|          -|       -|      -|    -|     -|         -|        -|           -|                 -|                                                                                                                                            -|           -|       -|           -|\n",
            "|       1_10216_T/C| 1:10216|     C|ENSG00000223972|ENST00000456328|       Transcript|    upstream_gene_variant|            -|           -|               -|          -|     -|                 -|SAMPLE1|HET|MODIFIER|    1653|     1|    -|          SNV|DDX11L1|         HGNC|HGNC:37102|              processed_transcript|      YES|   -|  1|     -|   -|   -|        -|     -|      -|              -|         -|   -|       -|   -|     -|      -|    -|    -|    -|          -|  -|     -|     -|     -|     -|     -|    -|    -|        -|            -|            -|            -|            -|            -|            -|            -|            -|     -|          -|       -|      -|    -|     -|         -|        -|           -|                 -|                                                                                                                                            -|           -|       -|           -|\n",
            "|       1_10216_T/C| 1:10216|     C|ENSG00000227232|ENST00000488147|       Transcript|  downstream_gene_variant|            -|           -|               -|          -|     -|                 -|SAMPLE1|HET|MODIFIER|    4188|    -1|    -|          SNV| WASH7P|         HGNC|HGNC:38034|            unprocessed_pseudogene|      YES|   -|  -|     -|   -|   -|        -|     -|      -|              -|         -|   -|       -|   -|     -|      -|    -|    -|    -|          -|  -|     -|     -|     -|     -|     -|    -|    -|        -|            -|            -|            -|            -|            -|            -|            -|            -|     -|          -|       -|      -|    -|     -|         -|        -|           -|                 -|                                                                                                                                            -|           -|       -|           -|\n",
            "|       1_10216_T/C| 1:10216|     C|              -|ENSR00000344264|RegulatoryFeature|regulatory_region_variant|            -|           -|               -|          -|     -|                 -|SAMPLE1|HET|MODIFIER|       -|     -|    -|          SNV|      -|            -|         -|                 CTCF_binding_site|        -|   -|  -|     -|   -|   -|        -|     -|      -|              -|         -|   -|       -|   -|     -|      -|    -|    -|    -|          -|  -|     -|     -|     -|     -|     -|    -|    -|        -|            -|            -|            -|            -|            -|            -|            -|            -|     -|          -|       -|      -|    -|     -|         -|        -|           -|                 -|                                                                                                                                            -|           -|       -|           -|\n",
            "|       1_10251_C/A| 1:10251|     A|ENSG00000223972|ENST00000450305|       Transcript|    upstream_gene_variant|            -|           -|               -|          -|     -|                 -|SAMPLE1|HET|MODIFIER|    1759|     1|    -|          SNV|DDX11L1|         HGNC|HGNC:37102|transcribed_unprocessed_pseudogene|        -|   -|  -|     -|   -|   -|        -|     -|      -|              -|         -|   -|       -|   -|     -|      -|    -|    -|    -|          -|  -|     -|     -|     -|     -|     -|    -|    -|        -|            -|            -|            -|            -|            -|            -|            -|            -|     -|          -|       -|      -|    -|     -|         -|        -|           -|                 -|                                                                                                                                            -|           -|       -|           -|\n",
            "|       1_10251_C/A| 1:10251|     A|ENSG00000223972|ENST00000456328|       Transcript|    upstream_gene_variant|            -|           -|               -|          -|     -|                 -|SAMPLE1|HET|MODIFIER|    1618|     1|    -|          SNV|DDX11L1|         HGNC|HGNC:37102|              processed_transcript|      YES|   -|  1|     -|   -|   -|        -|     -|      -|              -|         -|   -|       -|   -|     -|      -|    -|    -|    -|          -|  -|     -|     -|     -|     -|     -|    -|    -|        -|            -|            -|            -|            -|            -|            -|            -|            -|     -|          -|       -|      -|    -|     -|         -|        -|           -|                 -|                                                                                                                                            -|           -|       -|           -|\n",
            "|       1_10251_C/A| 1:10251|     A|ENSG00000227232|ENST00000488147|       Transcript|  downstream_gene_variant|            -|           -|               -|          -|     -|                 -|SAMPLE1|HET|MODIFIER|    4153|    -1|    -|          SNV| WASH7P|         HGNC|HGNC:38034|            unprocessed_pseudogene|      YES|   -|  -|     -|   -|   -|        -|     -|      -|              -|         -|   -|       -|   -|     -|      -|    -|    -|    -|          -|  -|     -|     -|     -|     -|     -|    -|    -|        -|            -|            -|            -|            -|            -|            -|            -|            -|     -|          -|       -|      -|    -|     -|         -|        -|           -|                 -|                                                                                                                                            -|           -|       -|           -|\n",
            "|       1_10251_C/A| 1:10251|     A|              -|ENSR00000344264|RegulatoryFeature|regulatory_region_variant|            -|           -|               -|          -|     -|                 -|SAMPLE1|HET|MODIFIER|       -|     -|    -|          SNV|      -|            -|         -|                 CTCF_binding_site|        -|   -|  -|     -|   -|   -|        -|     -|      -|              -|         -|   -|       -|   -|     -|      -|    -|    -|    -|          -|  -|     -|     -|     -|     -|     -|    -|    -|        -|            -|            -|            -|            -|            -|            -|            -|            -|     -|          -|       -|      -|    -|     -|         -|        -|           -|                 -|                                                                                                                                            -|           -|       -|           -|\n",
            "|       1_10251_C/A| 1:10251|     A|              -|ENSM00000254442|     MotifFeature|  TF_binding_site_variant|            -|           -|               -|          -|     -|                 -|SAMPLE1|HET|MODIFIER|       -|     1|    -|          SNV|      -|            -|         -|                                 -|        -|   -|  -|     -|   -|   -|        -|     -|      -|              -|         -|   -|       -|   -|     -|      -|    -|    -|    -|          -|  -|     -|     -|     -|     -|     -|    -|    -|        -|            -|            -|            -|            -|            -|            -|            -|            -|     -|          -|       -|      -|    -|     -|ENSPFM0205|        6|           N|            -0.134|ETV2::FOXI1,ERF::FOXI1,FOXO1::ELF1,FOXO1::ELK1,FLI1::FOXI1,ETV5::FOXI1,FOXJ2::ELF1,ERF::FOXO1,FOXO1::ELK3,FOXO1::ETV4,FOXO1::FLI1,ETV5::FOXO1|           -|       -|           -|\n",
            "|       1_10251_C/A| 1:10251|     A|              -|ENSM00205845315|     MotifFeature|  TF_binding_site_variant|            -|           -|               -|          -|     -|                 -|SAMPLE1|HET|MODIFIER|       -|     1|    -|          SNV|      -|            -|         -|                                 -|        -|   -|  -|     -|   -|   -|        -|     -|      -|              -|         -|   -|       -|   -|     -|      -|    -|    -|    -|          -|  -|     -|     -|     -|     -|     -|    -|    -|        -|            -|            -|            -|            -|            -|            -|            -|            -|     -|          -|       -|      -|    -|     -|ENSPFM0100|        9|           N|            -0.025|                         ELK1::HOXB13,HOXB13::ETV1,FLI1::HOXB13,HOXB13::ELK1,HOXD12::ELK3,HOXD12::ETV1,HOXD12::ETV4,ETV2::HOXB13,ETV5::HOXB13|           -|       -|           -|\n",
            "+------------------+--------+------+---------------+---------------+-----------------+-------------------------+-------------+------------+----------------+-----------+------+------------------+-------+---+--------+--------+------+-----+-------------+-------+-------------+----------+----------------------------------+---------+----+---+------+----+----+---------+------+-------+---------------+----------+----+--------+----+------+-------+-----+-----+-----+-----------+---+------+------+------+------+------+-----+-----+---------+-------------+-------------+-------------+-------------+-------------+-------------+-------------+-------------+------+-----------+--------+-------+-----+------+----------+---------+------------+------------------+---------------------------------------------------------------------------------------------------------------------------------------------+------------+--------+------------+\n",
            "only showing top 10 rows\n",
            "\n"
          ],
          "output_type" : "stream"
        }
      ]
    },
    {
      "cell_type" : "code",
      "execution_count" : 47,
      "metadata" : {
        "cell.metadata.exec_info" : {
          "startTs" : 1609257282791,
          "endTs" : 1609257282983
        },
        "language" : "scala"
      },
      "language" : "scala",
      "source" : [
        "annotations.select(\"G2P_flag\").distinct"
      ],
      "outputs" : [
        {
          "execution_count" : 47,
          "data" : {
            "text/plain" : [
              "[G2P_flag: string]"
            ]
          },
          "metadata" : {
            "name" : "Out",
            "type" : "Dataset[Row]"
          },
          "output_type" : "execute_result"
        }
      ]
    },
    {
      "cell_type" : "markdown",
      "execution_count" : 42,
      "metadata" : {
        "language" : "text"
      },
      "language" : "text",
      "source" : [
        "## STRUCTURAL\n",
        "\n",
        "\n"
      ],
      "outputs" : [
      ]
    },
    {
      "cell_type" : "code",
      "execution_count" : 7,
      "metadata" : {
        "cell.metadata.exec_info" : {
          "startTs" : 1609219122181,
          "endTs" : 1609219125282
        },
        "language" : "scala"
      },
      "language" : "scala",
      "source" : [
        "val annotations = spark.readTSV( (anno_path / \"test\" / \"antonkulaga_variant_annotations.tsv\").toString, header = false).toDF(cols:_*)\n",
        "annotations.show(10)"
      ],
      "outputs" : [
        {
          "name" : "stdout",
          "text" : [
            "+------------------+--------+------+---------------+---------------+-----------------+--------------------+-------------+------------+----------------+-----------+------+------------------+--------+--------+------+-----+-------------+-------+-------------+----------+--------------------+---------+----+---+------+----+----+---------+------+-------+----------+----+--------+----+------+-------+-----+-----+-----+-----------+---+------+------+------+------+------+-----+-----+---------+-------------+-------------+-------------+-------------+-------------+-------------+-------------+-------------+------+-----------+--------+-------+-----+------+---------------+---------+------------+------------------+\n",
            "|Uploaded_variation|Location|Allele|           Gene|        Feature|     Feature_type|         Consequence|cDNA_position|CDS_position|Protein_position|Amino_acids|Codons|Existing_variation|  IMPACT|DISTANCE|STRAND|FLAGS|VARIANT_CLASS| SYMBOL|SYMBOL_SOURCE|   HGNC_ID|             BIOTYPE|CANONICAL|MANE|TSL|APPRIS|CCDS|ENSP|SWISSPROT|TREMBL|UNIPARC|GENE_PHENO|SIFT|PolyPhen|EXON|INTRON|DOMAINS|miRNA|HGVSc|HGVSp|HGVS_OFFSET| AF|AFR_AF|AMR_AF|EAS_AF|EUR_AF|SAS_AF|AA_AF|EA_AF|gnomAD_AF|gnomAD_AFR_AF|gnomAD_AMR_AF|gnomAD_ASJ_AF|gnomAD_EAS_AF|gnomAD_FIN_AF|gnomAD_NFE_AF|gnomAD_OTH_AF|gnomAD_SAS_AF|MAX_AF|MAX_AF_POPS|CLIN_SIG|SOMATIC|PHENO|PUBMED|     MOTIF_NAME|MOTIF_POS|HIGH_INF_POS|MOTIF_SCORE_CHANGE|\n",
            "+------------------+--------+------+---------------+---------------+-----------------+--------------------+-------------+------------+----------------+-----------+------+------------------+--------+--------+------+-----+-------------+-------+-------------+----------+--------------------+---------+----+---+------+----+----+---------+------+-------+----------+----+--------+----+------+-------+-----+-----+-----+-----------+---+------+------+------+------+------+-----+-----+---------+-------------+-------------+-------------+-------------+-------------+-------------+-------------+-------------+------+-----------+--------+-------+-----+------+---------------+---------+------------+------------------+\n",
            "|       1_10216_T/C| 1:10216|     C|ENSG00000223972|ENST00000450305|       Transcript|upstream_gene_var...|            -|           -|               -|          -|     -|                 -|MODIFIER|    1794|     1|    -|          SNV|DDX11L1|         HGNC|HGNC:37102|transcribed_unpro...|        -|   -|  -|     -|   -|   -|        -|     -|      -|         -|   -|       -|   -|     -|      -|    -|    -|    -|          -|  -|     -|     -|     -|     -|     -|    -|    -|        -|            -|            -|            -|            -|            -|            -|            -|            -|     -|          -|       -|      -|    -|     -|              -|        -|           -|                 -|\n",
            "|       1_10216_T/C| 1:10216|     C|ENSG00000223972|ENST00000456328|       Transcript|upstream_gene_var...|            -|           -|               -|          -|     -|                 -|MODIFIER|    1653|     1|    -|          SNV|DDX11L1|         HGNC|HGNC:37102|processed_transcript|      YES|   -|  1|     -|   -|   -|        -|     -|      -|         -|   -|       -|   -|     -|      -|    -|    -|    -|          -|  -|     -|     -|     -|     -|     -|    -|    -|        -|            -|            -|            -|            -|            -|            -|            -|            -|     -|          -|       -|      -|    -|     -|              -|        -|           -|                 -|\n",
            "|       1_10216_T/C| 1:10216|     C|ENSG00000227232|ENST00000488147|       Transcript|downstream_gene_v...|            -|           -|               -|          -|     -|                 -|MODIFIER|    4188|    -1|    -|          SNV| WASH7P|         HGNC|HGNC:38034|unprocessed_pseud...|      YES|   -|  -|     -|   -|   -|        -|     -|      -|         -|   -|       -|   -|     -|      -|    -|    -|    -|          -|  -|     -|     -|     -|     -|     -|    -|    -|        -|            -|            -|            -|            -|            -|            -|            -|            -|     -|          -|       -|      -|    -|     -|              -|        -|           -|                 -|\n",
            "|       1_10216_T/C| 1:10216|     C|              -|ENSR00000344264|RegulatoryFeature|regulatory_region...|            -|           -|               -|          -|     -|                 -|MODIFIER|       -|     -|    -|          SNV|      -|            -|         -|   CTCF_binding_site|        -|   -|  -|     -|   -|   -|        -|     -|      -|         -|   -|       -|   -|     -|      -|    -|    -|    -|          -|  -|     -|     -|     -|     -|     -|    -|    -|        -|            -|            -|            -|            -|            -|            -|            -|            -|     -|          -|       -|      -|    -|     -|              -|        -|           -|                 -|\n",
            "|       1_10251_C/A| 1:10251|     A|ENSG00000223972|ENST00000450305|       Transcript|upstream_gene_var...|            -|           -|               -|          -|     -|                 -|MODIFIER|    1759|     1|    -|          SNV|DDX11L1|         HGNC|HGNC:37102|transcribed_unpro...|        -|   -|  -|     -|   -|   -|        -|     -|      -|         -|   -|       -|   -|     -|      -|    -|    -|    -|          -|  -|     -|     -|     -|     -|     -|    -|    -|        -|            -|            -|            -|            -|            -|            -|            -|            -|     -|          -|       -|      -|    -|     -|              -|        -|           -|                 -|\n",
            "|       1_10251_C/A| 1:10251|     A|ENSG00000223972|ENST00000456328|       Transcript|upstream_gene_var...|            -|           -|               -|          -|     -|                 -|MODIFIER|    1618|     1|    -|          SNV|DDX11L1|         HGNC|HGNC:37102|processed_transcript|      YES|   -|  1|     -|   -|   -|        -|     -|      -|         -|   -|       -|   -|     -|      -|    -|    -|    -|          -|  -|     -|     -|     -|     -|     -|    -|    -|        -|            -|            -|            -|            -|            -|            -|            -|            -|     -|          -|       -|      -|    -|     -|              -|        -|           -|                 -|\n",
            "|       1_10251_C/A| 1:10251|     A|ENSG00000227232|ENST00000488147|       Transcript|downstream_gene_v...|            -|           -|               -|          -|     -|                 -|MODIFIER|    4153|    -1|    -|          SNV| WASH7P|         HGNC|HGNC:38034|unprocessed_pseud...|      YES|   -|  -|     -|   -|   -|        -|     -|      -|         -|   -|       -|   -|     -|      -|    -|    -|    -|          -|  -|     -|     -|     -|     -|     -|    -|    -|        -|            -|            -|            -|            -|            -|            -|            -|            -|     -|          -|       -|      -|    -|     -|              -|        -|           -|                 -|\n",
            "|       1_10251_C/A| 1:10251|     A|              -|ENSR00000344264|RegulatoryFeature|regulatory_region...|            -|           -|               -|          -|     -|                 -|MODIFIER|       -|     -|    -|          SNV|      -|            -|         -|   CTCF_binding_site|        -|   -|  -|     -|   -|   -|        -|     -|      -|         -|   -|       -|   -|     -|      -|    -|    -|    -|          -|  -|     -|     -|     -|     -|     -|    -|    -|        -|            -|            -|            -|            -|            -|            -|            -|            -|     -|          -|       -|      -|    -|     -|              -|        -|           -|                 -|\n",
            "|       1_10251_C/A| 1:10251|     A|              -|ENSM00000254442|     MotifFeature|TF_binding_site_v...|            -|           -|               -|          -|     -|                 -|MODIFIER|       -|     1|    -|          SNV|      -|            -|         -|                   -|        -|   -|  -|     -|   -|   -|        -|     -|      -|         -|   -|       -|   -|     -|      -|    -|    -|    -|          -|  -|     -|     -|     -|     -|     -|    -|    -|        -|            -|            -|            -|            -|            -|            -|            -|            -|     -|          -|       -|      -|    -|     -|ENSM00000254442|        6|           N|            -0.134|\n",
            "|       1_10251_C/A| 1:10251|     A|              -|ENSM00205845315|     MotifFeature|TF_binding_site_v...|            -|           -|               -|          -|     -|                 -|MODIFIER|       -|     1|    -|          SNV|      -|            -|         -|                   -|        -|   -|  -|     -|   -|   -|        -|     -|      -|         -|   -|       -|   -|     -|      -|    -|    -|    -|          -|  -|     -|     -|     -|     -|     -|    -|    -|        -|            -|            -|            -|            -|            -|            -|            -|            -|     -|          -|       -|      -|    -|     -|ENSM00205845315|        9|           N|            -0.025|\n",
            "+------------------+--------+------+---------------+---------------+-----------------+--------------------+-------------+------------+----------------+-----------+------+------------------+--------+--------+------+-----+-------------+-------+-------------+----------+--------------------+---------+----+---+------+----+----+---------+------+-------+----------+----+--------+----+------+-------+-----+-----+-----+-----------+---+------+------+------+------+------+-----+-----+---------+-------------+-------------+-------------+-------------+-------------+-------------+-------------+-------------+------+-----------+--------+-------+-----+------+---------------+---------+------------+------------------+\n",
            "only showing top 10 rows\n",
            "\n"
          ],
          "output_type" : "stream"
        }
      ]
    },
    {
      "cell_type" : "code",
      "execution_count" : 48,
      "metadata" : {
        "cell.metadata.exec_info" : {
          "startTs" : 1609262551742,
          "endTs" : 1609262552412
        },
        "language" : "scala"
      },
      "language" : "scala",
      "source" : [
        "annotations.where($\"gnomAD_AMR_AF\" =!= \"-\").show(10,1000)"
      ],
      "outputs" : [
        {
          "name" : "stdout",
          "text" : [
            "+------------------+--------+------+---------------+---------------+-----------------+-------------------------+-------------+------------+----------------+-----------+-------+----------------------+--------+--------+------+-----+-------------+----------+------------------------+----------+--------------------+---------+----+---+------+-----------+---------------+---------+----------+-------------+----------+---------------+---------+----+------+------------------------------------------------------------------------------------------------------------------------------------------------------------------+-----+--------------------------+-----------------------------+-----------+------+------+------+------+------+------+------+------+---------+-------------+-------------+-------------+-------------+-------------+-------------+-------------+-------------+------+-----------+--------+-------+-----+------+----------+---------+------------+------------------+\n",
            "|Uploaded_variation|Location|Allele|           Gene|        Feature|     Feature_type|              Consequence|cDNA_position|CDS_position|Protein_position|Amino_acids| Codons|    Existing_variation|  IMPACT|DISTANCE|STRAND|FLAGS|VARIANT_CLASS|    SYMBOL|           SYMBOL_SOURCE|   HGNC_ID|             BIOTYPE|CANONICAL|MANE|TSL|APPRIS|       CCDS|           ENSP|SWISSPROT|    TREMBL|      UNIPARC|GENE_PHENO|           SIFT| PolyPhen|EXON|INTRON|                                                                                                                                                           DOMAINS|miRNA|                     HGVSc|                        HGVSp|HGVS_OFFSET|    AF|AFR_AF|AMR_AF|EAS_AF|EUR_AF|SAS_AF| AA_AF| EA_AF|gnomAD_AF|gnomAD_AFR_AF|gnomAD_AMR_AF|gnomAD_ASJ_AF|gnomAD_EAS_AF|gnomAD_FIN_AF|gnomAD_NFE_AF|gnomAD_OTH_AF|gnomAD_SAS_AF|MAX_AF|MAX_AF_POPS|CLIN_SIG|SOMATIC|PHENO|PUBMED|MOTIF_NAME|MOTIF_POS|HIGH_INF_POS|MOTIF_SCORE_CHANGE|\n",
            "+------------------+--------+------+---------------+---------------+-----------------+-------------------------+-------------+------------+----------------+-----------+-------+----------------------+--------+--------+------+-----+-------------+----------+------------------------+----------+--------------------+---------+----+---+------+-----------+---------------+---------+----------+-------------+----------+---------------+---------+----+------+------------------------------------------------------------------------------------------------------------------------------------------------------------------+-----+--------------------------+-----------------------------+-----------+------+------+------+------+------+------+------+------+---------+-------------+-------------+-------------+-------------+-------------+-------------+-------------+-------------+------+-----------+--------+-------+-----+------+----------+---------+------------+------------------+\n",
            "|       1_69511_A/G| 1:69511|     G|ENSG00000186092|ENST00000335137|       Transcript|         missense_variant|          457|         421|             141|        T/A|Aca/Gca|rs2691305,COSV58736924|MODERATE|       -|     1|    -|          SNV|     OR4F5|                    HGNC|HGNC:14825|      protein_coding|      YES|   -|  -|    P1|CCDS30547.1|ENSP00000334393|   Q8NH21|         -|UPI0000041BC1|         -|tolerated(0.82)|benign(0)| 1/1|     -|Gene3D:1.20.1070.10,Pfam:PF13853,PROSITE_profiles:PS50262,PANTHER:PTHR26451,PANTHER:PTHR26451:SF179,Superfamily:SSF81321,Transmembrane_helices:TMhelix,CDD:cd15226|    -|ENST00000335137.4:c.421A>G|ENSP00000334393.3:p.Thr141Ala|          -|     -|     -|     -|     -|     -|     -|0.5441|0.8874|   0.9497|       0.6075|       0.9514|       0.9767|       0.9994|       0.9916|       0.9726|       0.9506|       0.9854|0.9994| gnomAD_EAS|       -|    0,1|  0,1|     -|         -|        -|           -|                 -|\n",
            "|       1_69511_A/G| 1:69511|     G|ENSG00000186092|ENST00000641515|       Transcript|         missense_variant|          544|         484|             162|        T/A|Aca/Gca|rs2691305,COSV58736924|MODERATE|       -|     1|    -|          SNV|     OR4F5|                    HGNC|HGNC:14825|      protein_coding|        -|   -|  -|     -|          -|ENSP00000493376|        -|A0A2U3U0J3|UPI000D1938F0|         -|tolerated(0.85)|benign(0)| 3/3|     -|CDD:cd15226,PANTHER:PTHR26451,PANTHER:PTHR26451:SF179,Gene3D:1.20.1070.10,Pfam:PF13853,Superfamily:SSF81321,Transmembrane_helices:TMhelix,PROSITE_profiles:PS50262|    -|ENST00000641515.2:c.484A>G|ENSP00000493376.2:p.Thr162Ala|          -|     -|     -|     -|     -|     -|     -|0.5441|0.8874|   0.9497|       0.6075|       0.9514|       0.9767|       0.9994|       0.9916|       0.9726|       0.9506|       0.9854|0.9994| gnomAD_EAS|       -|    0,1|  0,1|     -|         -|        -|           -|                 -|\n",
            "|      1_138593_G/T|1:138593|     T|ENSG00000233750|ENST00000442987|       Transcript|  downstream_gene_variant|            -|           -|               -|          -|      -|           rs375595668|MODIFIER|    3757|     1|    -|          SNV|    CICP27|                    HGNC|HGNC:48835|processed_pseudogene|      YES|   -|  -|     -|          -|              -|        -|         -|            -|         -|              -|        -|   -|     -|                                                                                                                                                                 -|    -|                         -|                            -|          -|0.0451|0.0454|0.0605|     0|0.1034|0.0204|     -|     -|  0.09201|      0.06358|      0.08052|       0.1024|    0.0004201|       0.1353|       0.1441|       0.1217|      0.04019|0.1441| gnomAD_NFE|       -|      -|    -|     -|         -|        -|           -|                 -|\n",
            "|      1_138593_G/T|1:138593|     T|ENSG00000241860|ENST00000484859|       Transcript|  downstream_gene_variant|            -|           -|               -|          -|      -|           rs375595668|MODIFIER|    2881|    -1|    -|          SNV|AL627309.5|Clone_based_ensembl_gene|         -|              lncRNA|      YES|   -|  5|     -|          -|              -|        -|         -|            -|         -|              -|        -|   -|     -|                                                                                                                                                                 -|    -|                         -|                            -|          -|0.0451|0.0454|0.0605|     0|0.1034|0.0204|     -|     -|  0.09201|      0.06358|      0.08052|       0.1024|    0.0004201|       0.1353|       0.1441|       0.1217|      0.04019|0.1441| gnomAD_NFE|       -|      -|    -|     -|         -|        -|           -|                 -|\n",
            "|      1_138593_G/T|1:138593|     T|ENSG00000241860|ENST00000490997|       Transcript|  downstream_gene_variant|            -|           -|               -|          -|      -|           rs375595668|MODIFIER|    4215|    -1|    -|          SNV|AL627309.5|Clone_based_ensembl_gene|         -|              lncRNA|        -|   -|  5|     -|          -|              -|        -|         -|            -|         -|              -|        -|   -|     -|                                                                                                                                                                 -|    -|                         -|                            -|          -|0.0451|0.0454|0.0605|     0|0.1034|0.0204|     -|     -|  0.09201|      0.06358|      0.08052|       0.1024|    0.0004201|       0.1353|       0.1441|       0.1217|      0.04019|0.1441| gnomAD_NFE|       -|      -|    -|     -|         -|        -|           -|                 -|\n",
            "|      1_138593_G/T|1:138593|     T|ENSG00000239906|ENST00000493797|       Transcript|  downstream_gene_variant|            -|           -|               -|          -|      -|           rs375595668|MODIFIER|    1197|    -1|    -|          SNV|AL627309.2|Clone_based_ensembl_gene|         -|              lncRNA|      YES|   -|  2|     -|          -|              -|        -|         -|            -|         -|              -|        -|   -|     -|                                                                                                                                                                 -|    -|                         -|                            -|          -|0.0451|0.0454|0.0605|     0|0.1034|0.0204|     -|     -|  0.09201|      0.06358|      0.08052|       0.1024|    0.0004201|       0.1353|       0.1441|       0.1217|      0.04019|0.1441| gnomAD_NFE|       -|      -|    -|     -|         -|        -|           -|                 -|\n",
            "|      1_138593_G/T|1:138593|     T|ENSG00000268903|ENST00000494149|       Transcript|    upstream_gene_variant|            -|           -|               -|          -|      -|           rs375595668|MODIFIER|    2698|    -1|    -|          SNV|AL627309.6|Clone_based_ensembl_gene|         -|processed_pseudogene|      YES|   -|  -|     -|          -|              -|        -|         -|            -|         -|              -|        -|   -|     -|                                                                                                                                                                 -|    -|                         -|                            -|          -|0.0451|0.0454|0.0605|     0|0.1034|0.0204|     -|     -|  0.09201|      0.06358|      0.08052|       0.1024|    0.0004201|       0.1353|       0.1441|       0.1217|      0.04019|0.1441| gnomAD_NFE|       -|      -|    -|     -|         -|        -|           -|                 -|\n",
            "|      1_138593_G/T|1:138593|     T|ENSG00000269981|ENST00000595919|       Transcript|    upstream_gene_variant|            -|           -|               -|          -|      -|           rs375595668|MODIFIER|     628|    -1|    -|          SNV|AL627309.7|Clone_based_ensembl_gene|         -|processed_pseudogene|      YES|   -|  -|     -|          -|              -|        -|         -|            -|         -|              -|        -|   -|     -|                                                                                                                                                                 -|    -|                         -|                            -|          -|0.0451|0.0454|0.0605|     0|0.1034|0.0204|     -|     -|  0.09201|      0.06358|      0.08052|       0.1024|    0.0004201|       0.1353|       0.1441|       0.1217|      0.04019|0.1441| gnomAD_NFE|       -|      -|    -|     -|         -|        -|           -|                 -|\n",
            "|      1_138593_G/T|1:138593|     T|ENSG00000238009|ENST00000610542|       Transcript|    upstream_gene_variant|            -|           -|               -|          -|      -|           rs375595668|MODIFIER|    4870|    -1|    -|          SNV|AL627309.1|Clone_based_ensembl_gene|         -|              lncRNA|        -|   -|  5|     -|          -|              -|        -|         -|            -|         -|              -|        -|   -|     -|                                                                                                                                                                 -|    -|                         -|                            -|          -|0.0451|0.0454|0.0605|     0|0.1034|0.0204|     -|     -|  0.09201|      0.06358|      0.08052|       0.1024|    0.0004201|       0.1353|       0.1441|       0.1217|      0.04019|0.1441| gnomAD_NFE|       -|      -|    -|     -|         -|        -|           -|                 -|\n",
            "|      1_138593_G/T|1:138593|     T|              -|ENSR00000918287|RegulatoryFeature|regulatory_region_variant|            -|           -|               -|          -|      -|           rs375595668|MODIFIER|       -|     -|    -|          SNV|         -|                       -|         -|            promoter|        -|   -|  -|     -|          -|              -|        -|         -|            -|         -|              -|        -|   -|     -|                                                                                                                                                                 -|    -|                         -|                            -|          -|0.0451|0.0454|0.0605|     0|0.1034|0.0204|     -|     -|  0.09201|      0.06358|      0.08052|       0.1024|    0.0004201|       0.1353|       0.1441|       0.1217|      0.04019|0.1441| gnomAD_NFE|       -|      -|    -|     -|         -|        -|           -|                 -|\n",
            "+------------------+--------+------+---------------+---------------+-----------------+-------------------------+-------------+------------+----------------+-----------+-------+----------------------+--------+--------+------+-----+-------------+----------+------------------------+----------+--------------------+---------+----+---+------+-----------+---------------+---------+----------+-------------+----------+---------------+---------+----+------+------------------------------------------------------------------------------------------------------------------------------------------------------------------+-----+--------------------------+-----------------------------+-----------+------+------+------+------+------+------+------+------+---------+-------------+-------------+-------------+-------------+-------------+-------------+-------------+-------------+------+-----------+--------+-------+-----+------+----------+---------+------------+------------------+\n",
            "only showing top 10 rows\n",
            "\n"
          ],
          "output_type" : "stream"
        }
      ]
    },
    {
      "cell_type" : "code",
      "execution_count" : 9,
      "metadata" : {
        "cell.metadata.exec_info" : {
          "startTs" : 1609111179211,
          "endTs" : 1609111180794
        },
        "language" : "scala"
      },
      "language" : "scala",
      "source" : [
        "\n",
        "val counts = annotations.select(\"Consequence\", \"Gene\").groupBy(\"Consequence\").agg(count($\"Gene\").as(\"count\"))\n",
        "\n",
        "counts.sort($\"count\".desc).show(1000,1000)"
      ],
      "outputs" : [
        {
          "name" : "stdout",
          "text" : [
            "+----------------------------------------------------------------------+------+\n",
            "|                                                           Consequence| count|\n",
            "+----------------------------------------------------------------------+------+\n",
            "|                                                        intron_variant|264592|\n",
            "|                          intron_variant,non_coding_transcript_variant|178337|\n",
            "|                                                 upstream_gene_variant| 76515|\n",
            "|                                               downstream_gene_variant| 73663|\n",
            "|                                 intron_variant,NMD_transcript_variant| 51102|\n",
            "|                                                    intergenic_variant| 45047|\n",
            "|                                             regulatory_region_variant| 37080|\n",
            "|                                    non_coding_transcript_exon_variant|  7534|\n",
            "|                                               TF_binding_site_variant|  7255|\n",
            "|                                                   3_prime_UTR_variant|  3902|\n",
            "|                                                    synonymous_variant|  1672|\n",
            "|                                                      missense_variant|  1395|\n",
            "|                                                   5_prime_UTR_variant|   877|\n",
            "|                            3_prime_UTR_variant,NMD_transcript_variant|   671|\n",
            "|                                  splice_region_variant,intron_variant|   298|\n",
            "|    splice_region_variant,intron_variant,non_coding_transcript_variant|   258|\n",
            "|                               missense_variant,NMD_transcript_variant|   115|\n",
            "|                             synonymous_variant,NMD_transcript_variant|   104|\n",
            "|                            5_prime_UTR_variant,NMD_transcript_variant|    92|\n",
            "|              splice_region_variant,non_coding_transcript_exon_variant|    85|\n",
            "|           splice_region_variant,intron_variant,NMD_transcript_variant|    60|\n",
            "|                              splice_region_variant,synonymous_variant|    56|\n",
            "|                    splice_donor_variant,non_coding_transcript_variant|    36|\n",
            "|                                missense_variant,splice_region_variant|    33|\n",
            "|                                                      inframe_deletion|    29|\n",
            "|      splice_region_variant,3_prime_UTR_variant,NMD_transcript_variant|    20|\n",
            "|                                               splice_acceptor_variant|    18|\n",
            "|                   splice_region_variant,non_coding_transcript_variant|    18|\n",
            "|                             splice_region_variant,5_prime_UTR_variant|    17|\n",
            "|                                                     inframe_insertion|    14|\n",
            "|         missense_variant,splice_region_variant,NMD_transcript_variant|    11|\n",
            "|                 splice_acceptor_variant,non_coding_transcript_variant|    11|\n",
            "|                                                  splice_donor_variant|     7|\n",
            "|                             splice_region_variant,3_prime_UTR_variant|     6|\n",
            "|                                                    frameshift_variant|     6|\n",
            "|       splice_region_variant,synonymous_variant,NMD_transcript_variant|     5|\n",
            "|                                                           stop_gained|     5|\n",
            "|                               inframe_deletion,NMD_transcript_variant|     5|\n",
            "|                               inframe_insertion,splice_region_variant|     4|\n",
            "|splice_donor_variant,non_coding_transcript_exon_variant,intron_variant|     3|\n",
            "|                                                 stop_retained_variant|     3|\n",
            "|                                      stop_lost,NMD_transcript_variant|     2|\n",
            "|      splice_region_variant,5_prime_UTR_variant,NMD_transcript_variant|     2|\n",
            "|                                                            start_lost|     2|\n",
            "|               splice_donor_variant,non_coding_transcript_exon_variant|     2|\n",
            "|                             frameshift_variant,NMD_transcript_variant|     2|\n",
            "|                           splice_donor_variant,NMD_transcript_variant|     1|\n",
            "|                                                  mature_miRNA_variant|     1|\n",
            "|                                     start_lost,NMD_transcript_variant|     1|\n",
            "|                                     stop_gained,splice_region_variant|     1|\n",
            "|                                    stop_gained,NMD_transcript_variant|     1|\n",
            "|                                        stop_gained,frameshift_variant|     1|\n",
            "|                                         non_coding_transcript_variant|     1|\n",
            "|                          stop_retained_variant,NMD_transcript_variant|     1|\n",
            "|                        splice_acceptor_variant,NMD_transcript_variant|     1|\n",
            "+----------------------------------------------------------------------+------+\n",
            "\n"
          ],
          "output_type" : "stream"
        }
      ]
    },
    {
      "cell_type" : "markdown",
      "execution_count" : 35,
      "metadata" : {
        "language" : "text"
      },
      "language" : "text",
      "source" : [
        "GET SNP ids"
      ],
      "outputs" : [
      ]
    },
    {
      "cell_type" : "code",
      "execution_count" : 13,
      "metadata" : {
        "language" : "scala"
      },
      "language" : "scala",
      "source" : [
        "annotations"
      ],
      "outputs" : [
      ]
    },
    {
      "cell_type" : "code",
      "execution_count" : 11,
      "metadata" : {
        "cell.metadata.exec_info" : {
          "startTs" : 1609219715889,
          "endTs" : 1609219718336
        },
        "language" : "scala"
      },
      "language" : "scala",
      "source" : [
        "val frameshift = annotations.where($\"Consequence\".contains(\"frameshift\"))\n",
        "println(frameshift.count)\n",
        "frameshift.show(1000,1000)"
      ],
      "outputs" : [
        {
          "name" : "stdout",
          "text" : [
            "9\n",
            "+----------------------------------+-------------------+----------------------+---------------+---------------+------------+-----------------------------------------+-------------+------------+----------------+-----------+------------------------+-----------------------+------+--------+------+------------+-------------------+------------+-------------+----------+-----------------------+---------+----+---+------+---------+---------------+---------+----------+-------------+----------+----+--------+----+------+-----------------------------------------+-----+---------------------------------+------------------------------------+-----------+------+------+------+------+------+------+------+------+---------+-------------+-------------+-------------+-------------+-------------+-------------+-------------+-------------+------+-----------+--------+-------+-----+------+----------+---------+------------+------------------+\n",
            "|                Uploaded_variation|           Location|                Allele|           Gene|        Feature|Feature_type|                              Consequence|cDNA_position|CDS_position|Protein_position|Amino_acids|                  Codons|     Existing_variation|IMPACT|DISTANCE|STRAND|       FLAGS|      VARIANT_CLASS|      SYMBOL|SYMBOL_SOURCE|   HGNC_ID|                BIOTYPE|CANONICAL|MANE|TSL|APPRIS|     CCDS|           ENSP|SWISSPROT|    TREMBL|      UNIPARC|GENE_PHENO|SIFT|PolyPhen|EXON|INTRON|                                  DOMAINS|miRNA|                            HGVSc|                               HGVSp|HGVS_OFFSET|    AF|AFR_AF|AMR_AF|EAS_AF|EUR_AF|SAS_AF| AA_AF| EA_AF|gnomAD_AF|gnomAD_AFR_AF|gnomAD_AMR_AF|gnomAD_ASJ_AF|gnomAD_EAS_AF|gnomAD_FIN_AF|gnomAD_NFE_AF|gnomAD_OTH_AF|gnomAD_SAS_AF|MAX_AF|MAX_AF_POPS|CLIN_SIG|SOMATIC|PHENO|PUBMED|MOTIF_NAME|MOTIF_POS|HIGH_INF_POS|MOTIF_SCORE_CHANGE|\n",
            "+----------------------------------+-------------------+----------------------+---------------+---------------+------------+-----------------------------------------+-------------+------------+----------------+-----------+------------------------+-----------------------+------+--------+------+------------+-------------------+------------+-------------+----------+-----------------------+---------+----+---+------+---------+---------------+---------+----------+-------------+----------+----+--------+----+------+-----------------------------------------+-----+---------------------------------+------------------------------------+-----------+------+------+------+------+------+------+------+------+---------+-------------+-------------+-------------+-------------+-------------+-------------+-------------+-------------+------+-----------+--------+-------+-----+------+----------+---------+------------+------------------+\n",
            "|1_2430626_-/GTGGGTGAGTGAGGCCCTGGCT|  1:2430625-2430626|GTGGGTGAGTGAGGCCCTGGCT|ENSG00000149527|ENST00000609981|  Transcript|           stop_gained,frameshift_variant|      346-347|     111-112|           37-38| -/VGE*GPGX|-/GTGGGTGAGTGAGGCCCTGGCT|                      -|  HIGH|       -|     1|  cds_end_NF|          insertion|       PLCH2|         HGNC|HGNC:29037|         protein_coding|        -|   -|  5|     -|        -|ENSP00000476436|        -|    V9GY64|UPI0003B92842|         -|   -|       -| 2/4|     -|PANTHER:PTHR10336,PANTHER:PTHR10336:SF166|    -|ENST00000609981.5:c.112_115+18dup|                                   -|         22|     -|     -|     -|     -|     -|     -|     -|     -|        -|            -|            -|            -|            -|            -|            -|            -|            -|     -|          -|       -|      -|    -|     -|         -|        -|           -|                 -|\n",
            "|                    1_19081801_-/C|1:19081800-19081801|                     C|ENSG00000127481|ENST00000375225|  Transcript|                       frameshift_variant|      440-441|         6-7|             2-3|        -/X|                     -/G|                      -|  HIGH|       -|    -1|           -|          insertion|        UBR4|         HGNC|HGNC:30313|         protein_coding|        -|   -|  2|     -|        -|ENSP00000364373|        -|    Q5TBN9|UPI000040DD3B|         -|   -|       -| 1/4|     -|                                        -|    -|         ENST00000375225.7:c.6dup|  ENSP00000364373.3:p.Pro3AlafsTer27|          -|     -|     -|     -|     -|     -|     -|     -|     -|        -|            -|            -|            -|            -|            -|            -|            -|            -|     -|          -|       -|      -|    -|     -|         -|        -|           -|                 -|\n",
            "|                 1_19617328_ACAG/-|1:19617328-19617331|                     -|ENSG00000270136|ENST00000602293|  Transcript|frameshift_variant,NMD_transcript_variant|      114-117|       32-35|           11-12|       HR/X|               cACAGg/cg|             rs58374984|  HIGH|       -|     1|           -|           deletion|MICOS10-NBL1|         HGNC|HGNC:48338|nonsense_mediated_decay|        -|   -|  3|    A2|        -|ENSP00000473403|        -|    R4GMY4|UPI000013F209|         -|   -|       -| 2/9|     -|                                        -|    -|     ENST00000602293.5:c.32_35del|  ENSP00000473403.2:p.His11ArgfsTer8|          -|0.0345|0.0061|0.0375| 0.005|0.0636|0.0716|     -|     -|        -|            -|            -|            -|            -|            -|            -|            -|            -|0.0716|        SAS|       -|      -|    -|     -|         -|        -|           -|                 -|\n",
            "|                    1_27942323_-/G|1:27942322-27942323|                     G|ENSG00000130768|ENST00000411604|  Transcript|                       frameshift_variant|      254-255|     109-110|              37|       P/RX|                cca/cGca|             rs11386058|  HIGH|       -|     1|  cds_end_NF|          insertion|     SMPDL3B|         HGNC|HGNC:21416|         protein_coding|        -|   -|  5|     -|        -|ENSP00000388092|        -|    Q5T0Y8|UPI00004700F6|         -|   -|       -| 2/7|     -|                  MobiDB_lite:mobidb-lite|    -|  ENST00000411604.5:c.109_110insG| ENSP00000388092.1:p.Pro37ArgfsTer22|          -|0.4583|0.2648|0.4236|0.5268|0.4742|0.6575|     -|     -|    0.491|       0.2762|        0.437|       0.5396|       0.5137|       0.4816|       0.4629|       0.4876|        0.661| 0.661| gnomAD_SAS|       -|      -|    -|     -|         -|        -|           -|                 -|\n",
            "|                    1_39876091_-/A|1:39876090-39876091|                     A|ENSG00000043514|ENST00000486825|  Transcript|frameshift_variant,NMD_transcript_variant|      200-201|     201-202|           67-68|        -/X|                     -/T|                      -|  HIGH|       -|    -1|cds_start_NF|          insertion|       TRIT1|         HGNC|HGNC:20286|nonsense_mediated_decay|        -|   -|  5|     -|        -|ENSP00000474151|        -|    S4R3C5|UPI000333506A|         1|   -|       -| 2/8|     -|                                        -|    -|       ENST00000486825.6:c.200dup| ENSP00000474151.1:p.Gly68TrpfsTer96|          -|     -|     -|     -|     -|     -|     -|     -|     -|        -|            -|            -|            -|            -|            -|            -|            -|            -|     -|          -|       -|      -|    -|     -|         -|        -|           -|                 -|\n",
            "|                 1_43772031_TT/T/-|1:43772031-43772032|                     T|ENSG00000126091|ENST00000484868|  Transcript|                       frameshift_variant|      350-351|     266-267|              89|        L/X|                  cTT/cT|             rs11320873|  HIGH|       -|     1|           -|sequence_alteration|     ST3GAL3|         HGNC|HGNC:10866|         protein_coding|        -|   -|  3|     -|        -|ENSP00000496035|        -|A0A2R8Y7D5|UPI000D18FA29|         1|   -|       -| 3/3|     -|                                        -|    -|       ENST00000484868.2:c.267del| ENSP00000496035.1:p.Phe94LeufsTer23|          -|     -|0.6619|0.5245|0.7173|0.6968|0.5521|     -|     -|        -|            -|            -|            -|            -|            -|            -|            -|            -|0.7173|        EAS|       -|      -|    -|     -|         -|        -|           -|                 -|\n",
            "|                 1_43772031_TT/T/-|1:43772031-43772032|                     -|ENSG00000126091|ENST00000484868|  Transcript|                       frameshift_variant|      350-351|     266-267|              89|        L/X|                   cTT/c|             rs11320873|  HIGH|       -|     1|           -|sequence_alteration|     ST3GAL3|         HGNC|HGNC:10866|         protein_coding|        -|   -|  3|     -|        -|ENSP00000496035|        -|A0A2R8Y7D5|UPI000D18FA29|         1|   -|       -| 3/3|     -|                                        -|    -|   ENST00000484868.2:c.266_267del|        ENSP00000496035.1:p.Phe94Ter|          -|     -|     -|     -|     -|     -|     -|     -|     -|        -|            -|            -|            -|            -|            -|            -|            -|            -|     -|          -|       -|      -|    -|     -|         -|        -|           -|                 -|\n",
            "|                    1_54139647_-/C|1:54139646-54139647|                     C|ENSG00000157211|ENST00000371330|  Transcript|                       frameshift_variant|    2071-2072|   1223-1224|             408|       P/PX|                ccc/ccGc|rs36013100,COSV61283612|  HIGH|       -|    -1|           -|          insertion|       CDCP2|         HGNC|HGNC:27297|         protein_coding|        -|   -|  2|    P3|CCDS588.2|ENSP00000360381|   Q5VXM1|         -|UPI0000458963|         -|   -|       -| 4/4|     -|                 Low_complexity_(Seg):seg|    -|ENST00000371330.1:c.1223_1224insG|ENSP00000360381.1:p.Met409HisfsTer45|          -|0.4798|0.3631|0.6614|0.3889|0.6521|0.4254|     -|     -|   0.7021|       0.5802|       0.7345|       0.7189|       0.6217|       0.7039|       0.7259|       0.7123|       0.6469|0.7345| gnomAD_AMR|       -|    0,1|  0,1|     -|         -|        -|           -|                 -|\n",
            "|                    1_78662886_-/T|1:78662885-78662886|                     T|ENSG00000137965|ENST00000446486|  Transcript|                       frameshift_variant|      151-152|     152-153|              51|       W/CX|                tgg/tgTg|            rs368139253|  HIGH|       -|     1|cds_start_NF|          insertion|       IFI44|         HGNC|HGNC:16938|         protein_coding|        -|   -|  3|     -|        -|ENSP00000400001|        -|    H7C1F3|UPI000059CFFD|         -|   -|       -| 1/2|     -|                                        -|    -|  ENST00000446486.1:c.151_152insT| ENSP00000400001.1:p.Trp51CysfsTer30|          -|0.4291|0.4781|0.3228|0.4266|0.4225|0.4479|0.4916|0.4299|   0.4036|       0.4912|       0.2951|       0.4135|        0.369|       0.3881|       0.4179|       0.4136|       0.4529|0.4916|         AA|       -|      -|    -|     -|         -|        -|           -|                 -|\n",
            "+----------------------------------+-------------------+----------------------+---------------+---------------+------------+-----------------------------------------+-------------+------------+----------------+-----------+------------------------+-----------------------+------+--------+------+------------+-------------------+------------+-------------+----------+-----------------------+---------+----+---+------+---------+---------------+---------+----------+-------------+----------+----+--------+----+------+-----------------------------------------+-----+---------------------------------+------------------------------------+-----------+------+------+------+------+------+------+------+------+---------+-------------+-------------+-------------+-------------+-------------+-------------+-------------+-------------+------+-----------+--------+-------+-----+------+----------+---------+------------+------------------+\n",
            "\n"
          ],
          "output_type" : "stream"
        }
      ]
    },
    {
      "cell_type" : "code",
      "execution_count" : 37,
      "metadata" : {
        "language" : "scala"
      },
      "language" : "scala",
      "source" : [
        "frameshift"
      ],
      "outputs" : [
      ]
    },
    {
      "cell_type" : "markdown",
      "execution_count" : 36,
      "metadata" : {
        "language" : "text"
      },
      "language" : "text",
      "source" : [
        "Clinical"
      ],
      "outputs" : [
      ]
    },
    {
      "cell_type" : "code",
      "execution_count" : 12,
      "metadata" : {
        "cell.metadata.exec_info" : {
          "startTs" : 1609111553781,
          "endTs" : 1609111554983
        },
        "language" : "scala"
      },
      "language" : "scala",
      "source" : [
        "val clinical = annotations.where($\"CLIN_SIG\" =!= \"-\")\n",
        "println(clinical.count)\n",
        "clinical.show(10,1000)"
      ],
      "outputs" : [
        {
          "name" : "stdout",
          "text" : [
            "2912\n",
            "+------------------+---------+------+---------------+---------------+-----------------+------------------------------------+-------------+------------+----------------+-----------+-------+-------------------+--------+--------+------+----------+-------------+----------+------------------------+---------+---------------+---------+-----------+---+------+-----------+---------------+---------+----------+-------------+----------+---------------+-------------+----+------+-----------------------------------------------------------------------------------------------------------------------------------+-----+-----------------------------+----------------------------+-----------+------+------+------+------+------+------+------+------+---------+-------------+-------------+-------------+-------------+-------------+-------------+-------------+-------------+------+-----------+--------+-------+-----+--------------------------+----------+---------+------------+------------------+\n",
            "|Uploaded_variation| Location|Allele|           Gene|        Feature|     Feature_type|                         Consequence|cDNA_position|CDS_position|Protein_position|Amino_acids| Codons| Existing_variation|  IMPACT|DISTANCE|STRAND|     FLAGS|VARIANT_CLASS|    SYMBOL|           SYMBOL_SOURCE|  HGNC_ID|        BIOTYPE|CANONICAL|       MANE|TSL|APPRIS|       CCDS|           ENSP|SWISSPROT|    TREMBL|      UNIPARC|GENE_PHENO|           SIFT|     PolyPhen|EXON|INTRON|                                                                                                                            DOMAINS|miRNA|                        HGVSc|                       HGVSp|HGVS_OFFSET|    AF|AFR_AF|AMR_AF|EAS_AF|EUR_AF|SAS_AF| AA_AF| EA_AF|gnomAD_AF|gnomAD_AFR_AF|gnomAD_AMR_AF|gnomAD_ASJ_AF|gnomAD_EAS_AF|gnomAD_FIN_AF|gnomAD_NFE_AF|gnomAD_OTH_AF|gnomAD_SAS_AF|MAX_AF|MAX_AF_POPS|CLIN_SIG|SOMATIC|PHENO|                    PUBMED|MOTIF_NAME|MOTIF_POS|HIGH_INF_POS|MOTIF_SCORE_CHANGE|\n",
            "+------------------+---------+------+---------------+---------------+-----------------+------------------------------------+-------------+------------+----------------+-----------+-------+-------------------+--------+--------+------+----------+-------------+----------+------------------------+---------+---------------+---------+-----------+---+------+-----------+---------------+---------+----------+-------------+----------+---------------+-------------+----+------+-----------------------------------------------------------------------------------------------------------------------------------+-----+-----------------------------+----------------------------+-----------+------+------+------+------+------+------+------+------+---------+-------------+-------------+-------------+-------------+-------------+-------------+-------------+-------------+------+-----------+--------+-------+-----+--------------------------+----------+---------+------------+------------------+\n",
            "|     1_1014228_G/A|1:1014228|     A|ENSG00000224969|ENST00000458555|       Transcript|               upstream_gene_variant|            -|           -|               -|          -|      -|rs1921,COSV65106391|MODIFIER|    1035|    -1|         -|          SNV|AL645608.1|Clone_based_ensembl_gene|        -|         lncRNA|      YES|          -|  2|     -|          -|              -|        -|         -|            -|         -|              -|            -|   -|     -|                                                                                                                                  -|    -|                            -|                           -|          -|0.3389|0.4387|0.2709|0.1845|0.3926|0.3558|0.4147|0.3949|   0.3593|       0.4146|       0.2452|       0.3142|       0.1998|       0.4674|       0.4004|       0.3684|       0.3404|0.4674| gnomAD_FIN|  benign|    0,1|  1,1|24033266,26563749,27626177|         -|        -|           -|                 -|\n",
            "|     1_1014228_G/A|1:1014228|     A|ENSG00000187608|ENST00000624652|       Transcript|                    missense_variant|          450|         224|              75|        S/N|aGc/aAc|rs1921,COSV65106391|MODERATE|       -|     1|cds_end_NF|          SNV|     ISG15|                    HGNC|HGNC:4053| protein_coding|        -|          -|  3|     -|          -|ENSP00000485313|        -|A0A096LNZ9|UPI00053BD5BA|         1|tolerated(0.36)|benign(0.003)| 3/3|     -|Gene3D:3.10.20.90,PROSITE_profiles:PS50053,PANTHER:PTHR10666,PANTHER:PTHR10666:SF267,SMART:SM00213,Superfamily:SSF54236,CDD:cd01810|    -|   ENST00000624652.1:c.224G>A|ENSP00000485313.1:p.Ser75Asn|          -|0.3389|0.4387|0.2709|0.1845|0.3926|0.3558|0.4147|0.3949|   0.3593|       0.4146|       0.2452|       0.3142|       0.1998|       0.4674|       0.4004|       0.3684|       0.3404|0.4674| gnomAD_FIN|  benign|    0,1|  1,1|24033266,26563749,27626177|         -|        -|           -|                 -|\n",
            "|     1_1014228_G/A|1:1014228|     A|ENSG00000187608|ENST00000624697|       Transcript|                    missense_variant|          475|         224|              75|        S/N|aGc/aAc|rs1921,COSV65106391|MODERATE|       -|     1|         -|          SNV|     ISG15|                    HGNC|HGNC:4053| protein_coding|        -|          -|  3|    A2|          -|ENSP00000485643|        -|A0A096LPJ4|UPI0004F23698|         1|tolerated(0.39)|benign(0.003)| 3/3|     -|Gene3D:3.10.20.90,PROSITE_profiles:PS50053,PANTHER:PTHR10666,PANTHER:PTHR10666:SF267,SMART:SM00213,Superfamily:SSF54236,CDD:cd01810|    -|   ENST00000624697.4:c.224G>A|ENSP00000485643.1:p.Ser75Asn|          -|0.3389|0.4387|0.2709|0.1845|0.3926|0.3558|0.4147|0.3949|   0.3593|       0.4146|       0.2452|       0.3142|       0.1998|       0.4674|       0.4004|       0.3684|       0.3404|0.4674| gnomAD_FIN|  benign|    0,1|  1,1|24033266,26563749,27626177|         -|        -|           -|                 -|\n",
            "|     1_1014228_G/A|1:1014228|     A|ENSG00000187608|ENST00000649529|       Transcript|                    missense_variant|          325|         248|              83|        S/N|aGc/aAc|rs1921,COSV65106391|MODERATE|       -|     1|         -|          SNV|     ISG15|                    HGNC|HGNC:4053| protein_coding|      YES|NM_005101.4|  -|    P2|    CCDS6.1|ENSP00000496832|   P05161|         -|UPI0000048D70|         1|tolerated(0.38)|benign(0.003)| 2/2|     -|Gene3D:3.10.20.90,PROSITE_profiles:PS50053,PANTHER:PTHR10666,PANTHER:PTHR10666:SF267,SMART:SM00213,Superfamily:SSF54236,CDD:cd01810|    -|   ENST00000649529.1:c.248G>A|ENSP00000496832.1:p.Ser83Asn|          -|0.3389|0.4387|0.2709|0.1845|0.3926|0.3558|0.4147|0.3949|   0.3593|       0.4146|       0.2452|       0.3142|       0.1998|       0.4674|       0.4004|       0.3684|       0.3404|0.4674| gnomAD_FIN|  benign|    0,1|  1,1|24033266,26563749,27626177|         -|        -|           -|                 -|\n",
            "|     1_1014228_G/A|1:1014228|     A|              -|ENSR00000000122|RegulatoryFeature|           regulatory_region_variant|            -|           -|               -|          -|      -|rs1921,COSV65106391|MODIFIER|       -|     -|         -|          SNV|         -|                       -|        -|       promoter|        -|          -|  -|     -|          -|              -|        -|         -|            -|         -|              -|            -|   -|     -|                                                                                                                                  -|    -|                            -|                           -|          -|0.3389|0.4387|0.2709|0.1845|0.3926|0.3558|0.4147|0.3949|   0.3593|       0.4146|       0.2452|       0.3142|       0.1998|       0.4674|       0.4004|       0.3684|       0.3404|0.4674| gnomAD_FIN|  benign|    0,1|  1,1|24033266,26563749,27626177|         -|        -|           -|                 -|\n",
            "|     1_1020217_G/T|1:1020217|     T|ENSG00000188157|ENST00000379370|       Transcript|                  synonymous_variant|           98|          45|              15|          P|ccG/ccT|        rs115173026|     LOW|       -|     1|         -|          SNV|      AGRN|                    HGNC| HGNC:329| protein_coding|      YES|NM_198576.4|  1|    P1|CCDS30551.1|ENSP00000368678|   O00468|         -|UPI00001D7C8B|         1|              -|            -|1/36|     -|                                             PROSITE_profiles:PS51257,Low_complexity_(Seg):seg,Cleavage_site_(Signalp):SignalP-noTM|    -|    ENST00000379370.7:c.45G>T|ENSP00000368678.2:p.Pro15%3D|          -|0.2825|0.3132|0.2334|0.1667|0.3489|0.3272|     -|     -|   0.3428|       0.3172|       0.2569|       0.3322|       0.2351|       0.4483|       0.3665|       0.3535|       0.3367|0.4483| gnomAD_FIN|  benign|      -|    1|                  25741868|         -|        -|           -|                 -|\n",
            "|     1_1020217_G/T|1:1020217|     T|ENSG00000188157|ENST00000620552|       Transcript|                 5_prime_UTR_variant|           95|           -|               -|          -|      -|        rs115173026|MODIFIER|       -|     1|         -|          SNV|      AGRN|                    HGNC| HGNC:329| protein_coding|        -|          -|  5|     -|          -|ENSP00000484607|        -|A0A087X208|UPI0004E4CB7F|         1|              -|            -|1/39|     -|                                                                                                                                  -|    -|  ENST00000620552.4:c.-370G>T|                           -|          -|0.2825|0.3132|0.2334|0.1667|0.3489|0.3272|     -|     -|   0.3428|       0.3172|       0.2569|       0.3322|       0.2351|       0.4483|       0.3665|       0.3535|       0.3367|0.4483| gnomAD_FIN|  benign|      -|    1|                  25741868|         -|        -|           -|                 -|\n",
            "|     1_1020217_G/T|1:1020217|     T|              -|ENSR00000000123|RegulatoryFeature|           regulatory_region_variant|            -|           -|               -|          -|      -|        rs115173026|MODIFIER|       -|     -|         -|          SNV|         -|                       -|        -|       promoter|        -|          -|  -|     -|          -|              -|        -|         -|            -|         -|              -|            -|   -|     -|                                                                                                                                  -|    -|                            -|                           -|          -|0.2825|0.3132|0.2334|0.1667|0.3489|0.3272|     -|     -|   0.3428|       0.3172|       0.2569|       0.3322|       0.2351|       0.4483|       0.3665|       0.3535|       0.3367|0.4483| gnomAD_FIN|  benign|      -|    1|                  25741868|         -|        -|           -|                 -|\n",
            "|     1_1041950_T/C|1:1041950|     C|ENSG00000188157|ENST00000379370|       Transcript|splice_region_variant,intron_variant|            -|           -|               -|          -|      -|          rs2799066|     LOW|       -|     1|         -|          SNV|      AGRN|                    HGNC| HGNC:329| protein_coding|      YES|NM_198576.4|  1|    P1|CCDS30551.1|ENSP00000368678|   O00468|         -|UPI00001D7C8B|         1|              -|            -|   -|  6/35|                                                                                                                                  -|    -|ENST00000379370.7:c.1178-6T>C|                           -|          -|0.8852|0.6899|0.9207| 0.999|0.9245|0.9663|0.7194|0.9208|   0.9233|       0.7112|       0.9515|       0.9248|       0.9998|       0.9543|        0.918|        0.919|        0.953|0.9998| gnomAD_EAS|  benign|      -|    1|         25741868,18414213|         -|        -|           -|                 -|\n",
            "|     1_1041950_T/C|1:1041950|     C|ENSG00000188157|ENST00000469403|       Transcript|             downstream_gene_variant|            -|           -|               -|          -|      -|          rs2799066|MODIFIER|     553|     1|         -|          SNV|      AGRN|                    HGNC| HGNC:329|retained_intron|        -|          -|  3|     -|          -|              -|        -|         -|            -|         1|              -|            -|   -|     -|                                                                                                                                  -|    -|                            -|                           -|          -|0.8852|0.6899|0.9207| 0.999|0.9245|0.9663|0.7194|0.9208|   0.9233|       0.7112|       0.9515|       0.9248|       0.9998|       0.9543|        0.918|        0.919|        0.953|0.9998| gnomAD_EAS|  benign|      -|    1|         25741868,18414213|         -|        -|           -|                 -|\n",
            "+------------------+---------+------+---------------+---------------+-----------------+------------------------------------+-------------+------------+----------------+-----------+-------+-------------------+--------+--------+------+----------+-------------+----------+------------------------+---------+---------------+---------+-----------+---+------+-----------+---------------+---------+----------+-------------+----------+---------------+-------------+----+------+-----------------------------------------------------------------------------------------------------------------------------------+-----+-----------------------------+----------------------------+-----------+------+------+------+------+------+------+------+------+---------+-------------+-------------+-------------+-------------+-------------+-------------+-------------+-------------+------+-----------+--------+-------+-----+--------------------------+----------+---------+------------+------------------+\n",
            "only showing top 10 rows\n",
            "\n"
          ],
          "output_type" : "stream"
        }
      ]
    },
    {
      "cell_type" : "code",
      "execution_count" : 14,
      "metadata" : {
        "language" : "scala"
      },
      "language" : "scala",
      "source" : [
      ],
      "outputs" : [
      ]
    }
  ]
}